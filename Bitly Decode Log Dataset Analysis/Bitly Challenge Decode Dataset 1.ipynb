{
 "cells": [
  {
   "cell_type": "markdown",
   "metadata": {},
   "source": [
    "### Importing all the essential Python Libraries"
   ]
  },
  {
   "cell_type": "code",
   "execution_count": 1,
   "metadata": {
    "collapsed": true
   },
   "outputs": [],
   "source": [
    "import pandas as pd\n",
    "from pandas import DataFrame, Series\n",
    "import numpy as np\n",
    "import matplotlib.pyplot as plt\n",
    "import json\n",
    "%matplotlib inline"
   ]
  },
  {
   "cell_type": "markdown",
   "metadata": {},
   "source": [
    "### Defining the file path to the Decode events log dataset"
   ]
  },
  {
   "cell_type": "code",
   "execution_count": 2,
   "metadata": {
    "collapsed": true
   },
   "outputs": [],
   "source": [
    "file_path = 'C://Users/Chiku/Downloads/Bitly Challenge/decodesaa.json'"
   ]
  },
  {
   "cell_type": "markdown",
   "metadata": {},
   "source": [
    "### Loading in the Decode log JSON dataset into Python"
   ]
  },
  {
   "cell_type": "code",
   "execution_count": 3,
   "metadata": {
    "collapsed": true
   },
   "outputs": [],
   "source": [
    "decode_log = [json.loads(line) for line in open(file_path)]"
   ]
  },
  {
   "cell_type": "markdown",
   "metadata": {},
   "source": [
    "### Displaying the first two records from the Dataset"
   ]
  },
  {
   "cell_type": "code",
   "execution_count": 4,
   "metadata": {
    "collapsed": false
   },
   "outputs": [
    {
     "data": {
      "text/plain": [
       "{'a': 'Mozilla/5.0 (Linux; Android 4.4.2; GT-I9507 Build/KOT49H) AppleWebKit/537.36 (KHTML, like Gecko) Version/4.0 Chrome/30.0.0.0 Mobile Safari/537.36 [FB_IAB/FB4A;FBAV/28.0.0.20.16;]',\n",
       " 'c': 'AU',\n",
       " 'cy': 'Perth',\n",
       " 'g': '1H8wL5d',\n",
       " 'h': '1H8wL5c',\n",
       " 'nk': 1,\n",
       " 't': 1427288399,\n",
       " 'tz': 'Australia/West',\n",
       " 'u': 'http://www.airasia.com/au/en/promotion/rr0550905.page?utm_source=facebook\\\\u0026utm_medium=organic\\\\u0026utm_campaign=aa_au_se\\\\u0026utm_term=SE_Mar15_AU'}"
      ]
     },
     "execution_count": 4,
     "metadata": {},
     "output_type": "execute_result"
    }
   ],
   "source": [
    "decode_log[0]"
   ]
  },
  {
   "cell_type": "code",
   "execution_count": 5,
   "metadata": {
    "collapsed": false
   },
   "outputs": [
    {
     "data": {
      "text/plain": [
       "{'a': 'Mozilla/5.0 (compatible; MSIE 9.0; Windows NT 6.1; WOW64; Trident/5.0; SLCC2; .NET CLR 2.0.50727; .NET4.0C; .NET4.0E; 360SE)',\n",
       " 'c': 'US',\n",
       " 'cy': 'Mountain View',\n",
       " 'g': '1lj67KQ',\n",
       " 'h': '1xupVE6',\n",
       " 'mc': 807,\n",
       " 'nk': 0,\n",
       " 't': 1427288399,\n",
       " 'tz': 'America/Los_Angeles',\n",
       " 'u': 'https://cdn.adf.ly/js/display.js'}"
      ]
     },
     "execution_count": 5,
     "metadata": {},
     "output_type": "execute_result"
    }
   ],
   "source": [
    "decode_log[1]"
   ]
  },
  {
   "cell_type": "markdown",
   "metadata": {},
   "source": [
    "### Converting the Dataset into a Python DataFrame"
   ]
  },
  {
   "cell_type": "code",
   "execution_count": 6,
   "metadata": {
    "collapsed": true
   },
   "outputs": [],
   "source": [
    "df = pd.DataFrame(decode_log)"
   ]
  },
  {
   "cell_type": "markdown",
   "metadata": {},
   "source": [
    "#### Initial examination of the DataFrame"
   ]
  },
  {
   "cell_type": "code",
   "execution_count": 7,
   "metadata": {
    "collapsed": false
   },
   "outputs": [
    {
     "data": {
      "text/plain": [
       "(3137627, 14)"
      ]
     },
     "execution_count": 7,
     "metadata": {},
     "output_type": "execute_result"
    }
   ],
   "source": [
    "df.shape"
   ]
  },
  {
   "cell_type": "code",
   "execution_count": 8,
   "metadata": {
    "collapsed": false
   },
   "outputs": [
    {
     "data": {
      "text/html": [
       "<div>\n",
       "<table border=\"1\" class=\"dataframe\">\n",
       "  <thead>\n",
       "    <tr style=\"text-align: right;\">\n",
       "      <th></th>\n",
       "      <th>a</th>\n",
       "      <th>c</th>\n",
       "      <th>ckw</th>\n",
       "      <th>cy</th>\n",
       "      <th>dp</th>\n",
       "      <th>g</th>\n",
       "      <th>h</th>\n",
       "      <th>kw</th>\n",
       "      <th>mc</th>\n",
       "      <th>nk</th>\n",
       "      <th>pp</th>\n",
       "      <th>t</th>\n",
       "      <th>tz</th>\n",
       "      <th>u</th>\n",
       "    </tr>\n",
       "  </thead>\n",
       "  <tbody>\n",
       "    <tr>\n",
       "      <th>0</th>\n",
       "      <td>Mozilla/5.0 (Linux; Android 4.4.2; GT-I9507 Bu...</td>\n",
       "      <td>AU</td>\n",
       "      <td>NaN</td>\n",
       "      <td>Perth</td>\n",
       "      <td>NaN</td>\n",
       "      <td>1H8wL5d</td>\n",
       "      <td>1H8wL5c</td>\n",
       "      <td>NaN</td>\n",
       "      <td>NaN</td>\n",
       "      <td>1</td>\n",
       "      <td>NaN</td>\n",
       "      <td>1427288399</td>\n",
       "      <td>Australia/West</td>\n",
       "      <td>http://www.airasia.com/au/en/promotion/rr05509...</td>\n",
       "    </tr>\n",
       "    <tr>\n",
       "      <th>1</th>\n",
       "      <td>Mozilla/5.0 (compatible; MSIE 9.0; Windows NT ...</td>\n",
       "      <td>US</td>\n",
       "      <td>NaN</td>\n",
       "      <td>Mountain View</td>\n",
       "      <td>NaN</td>\n",
       "      <td>1lj67KQ</td>\n",
       "      <td>1xupVE6</td>\n",
       "      <td>NaN</td>\n",
       "      <td>807</td>\n",
       "      <td>0</td>\n",
       "      <td>NaN</td>\n",
       "      <td>1427288399</td>\n",
       "      <td>America/Los_Angeles</td>\n",
       "      <td>https://cdn.adf.ly/js/display.js</td>\n",
       "    </tr>\n",
       "    <tr>\n",
       "      <th>2</th>\n",
       "      <td>Mozilla/4.0 (compatible; MSIE 6.0; Windows NT ...</td>\n",
       "      <td>US</td>\n",
       "      <td>NaN</td>\n",
       "      <td>Buffalo</td>\n",
       "      <td>NaN</td>\n",
       "      <td>1lj67KQ</td>\n",
       "      <td>1xupVE6</td>\n",
       "      <td>NaN</td>\n",
       "      <td>514</td>\n",
       "      <td>0</td>\n",
       "      <td>NaN</td>\n",
       "      <td>1427288399</td>\n",
       "      <td>America/New_York</td>\n",
       "      <td>https://cdn.adf.ly/js/display.js</td>\n",
       "    </tr>\n",
       "    <tr>\n",
       "      <th>3</th>\n",
       "      <td>Mozilla/5.0 (iPhone; CPU iPhone OS 8_0_2 like ...</td>\n",
       "      <td>GB</td>\n",
       "      <td>NaN</td>\n",
       "      <td>Leicester</td>\n",
       "      <td>NaN</td>\n",
       "      <td>1z7y10k</td>\n",
       "      <td>1z7y10j</td>\n",
       "      <td>NaN</td>\n",
       "      <td>NaN</td>\n",
       "      <td>1</td>\n",
       "      <td>NaN</td>\n",
       "      <td>1427288399</td>\n",
       "      <td>Europe/London</td>\n",
       "      <td>https://predikta.com/Account/Register</td>\n",
       "    </tr>\n",
       "    <tr>\n",
       "      <th>4</th>\n",
       "      <td>Mozilla/5.0 (iPad; CPU OS 7_1_2 like Mac OS X)...</td>\n",
       "      <td>CN</td>\n",
       "      <td>NaN</td>\n",
       "      <td>Shanghai</td>\n",
       "      <td>NaN</td>\n",
       "      <td>1pv5AIn</td>\n",
       "      <td>1pv5AIm</td>\n",
       "      <td>RTLPHT0814</td>\n",
       "      <td>NaN</td>\n",
       "      <td>0</td>\n",
       "      <td>NaN</td>\n",
       "      <td>1427288399</td>\n",
       "      <td>Asia/Shanghai</td>\n",
       "      <td>http://www.hasbro.com/en_US/brands/telepods/tr...</td>\n",
       "    </tr>\n",
       "  </tbody>\n",
       "</table>\n",
       "</div>"
      ],
      "text/plain": [
       "                                                   a   c  ckw             cy  \\\n",
       "0  Mozilla/5.0 (Linux; Android 4.4.2; GT-I9507 Bu...  AU  NaN          Perth   \n",
       "1  Mozilla/5.0 (compatible; MSIE 9.0; Windows NT ...  US  NaN  Mountain View   \n",
       "2  Mozilla/4.0 (compatible; MSIE 6.0; Windows NT ...  US  NaN        Buffalo   \n",
       "3  Mozilla/5.0 (iPhone; CPU iPhone OS 8_0_2 like ...  GB  NaN      Leicester   \n",
       "4  Mozilla/5.0 (iPad; CPU OS 7_1_2 like Mac OS X)...  CN  NaN       Shanghai   \n",
       "\n",
       "    dp        g        h          kw   mc  nk   pp           t  \\\n",
       "0  NaN  1H8wL5d  1H8wL5c         NaN  NaN   1  NaN  1427288399   \n",
       "1  NaN  1lj67KQ  1xupVE6         NaN  807   0  NaN  1427288399   \n",
       "2  NaN  1lj67KQ  1xupVE6         NaN  514   0  NaN  1427288399   \n",
       "3  NaN  1z7y10k  1z7y10j         NaN  NaN   1  NaN  1427288399   \n",
       "4  NaN  1pv5AIn  1pv5AIm  RTLPHT0814  NaN   0  NaN  1427288399   \n",
       "\n",
       "                    tz                                                  u  \n",
       "0       Australia/West  http://www.airasia.com/au/en/promotion/rr05509...  \n",
       "1  America/Los_Angeles                   https://cdn.adf.ly/js/display.js  \n",
       "2     America/New_York                   https://cdn.adf.ly/js/display.js  \n",
       "3        Europe/London              https://predikta.com/Account/Register  \n",
       "4        Asia/Shanghai  http://www.hasbro.com/en_US/brands/telepods/tr...  "
      ]
     },
     "execution_count": 8,
     "metadata": {},
     "output_type": "execute_result"
    }
   ],
   "source": [
    "df.head()"
   ]
  },
  {
   "cell_type": "markdown",
   "metadata": {},
   "source": [
    "### Beginning the dataset Analysis"
   ]
  },
  {
   "cell_type": "markdown",
   "metadata": {},
   "source": [
    "#### Analysing the Top 10 Timezones for Bitlinks"
   ]
  },
  {
   "cell_type": "markdown",
   "metadata": {},
   "source": [
    "Dealing with the Missing and Blank values for the Timezone"
   ]
  },
  {
   "cell_type": "code",
   "execution_count": 9,
   "metadata": {
    "collapsed": true
   },
   "outputs": [],
   "source": [
    "df['tz'].fillna(value='Missing', inplace=True)"
   ]
  },
  {
   "cell_type": "code",
   "execution_count": 10,
   "metadata": {
    "collapsed": true
   },
   "outputs": [],
   "source": [
    "df[df['tz'] == ''] = 'Unknown'"
   ]
  },
  {
   "cell_type": "code",
   "execution_count": 11,
   "metadata": {
    "collapsed": true
   },
   "outputs": [],
   "source": [
    "top_tz = df['tz'].value_counts()"
   ]
  },
  {
   "cell_type": "markdown",
   "metadata": {},
   "source": [
    "Listing out the Top 10 Timezones for the Bitlinks"
   ]
  },
  {
   "cell_type": "code",
   "execution_count": 12,
   "metadata": {
    "collapsed": false
   },
   "outputs": [
    {
     "data": {
      "text/plain": [
       "America/New_York       470243\n",
       "Missing                292936\n",
       "America/Chicago        195269\n",
       "Asia/Taipei            167992\n",
       "Asia/Tokyo             124276\n",
       "America/Los_Angeles    123311\n",
       "Europe/London          109017\n",
       "Europe/Paris            99787\n",
       "Europe/Berlin           94626\n",
       "America/Sao_Paulo       94007\n",
       "Name: tz, dtype: int64"
      ]
     },
     "execution_count": 12,
     "metadata": {},
     "output_type": "execute_result"
    }
   ],
   "source": [
    "top_tz[:10]"
   ]
  },
  {
   "cell_type": "markdown",
   "metadata": {},
   "source": [
    "Visualizing the Top 10 Timezones for the Bitlinks"
   ]
  },
  {
   "cell_type": "code",
   "execution_count": 13,
   "metadata": {
    "collapsed": false
   },
   "outputs": [
    {
     "data": {
      "text/plain": [
       "<matplotlib.axes._subplots.AxesSubplot at 0x600b1e5160>"
      ]
     },
     "execution_count": 13,
     "metadata": {},
     "output_type": "execute_result"
    },
    {
     "data": {
      "image/png": "[encoded data removed]",
      "text/plain": [
       "<matplotlib.figure.Figure at 0x5f4b187cc0>"
      ]
     },
     "metadata": {},
     "output_type": "display_data"
    }
   ],
   "source": [
    "top_tz[:10].plot(kind='barh', figsize=(10, 6), title='Top 10 Timezones for Bitlinks')"
   ]
  },
  {
   "cell_type": "markdown",
   "metadata": {},
   "source": [
    "#### Analyzing the Top 5 Browsers based on Bit.ly instances"
   ]
  },
  {
   "cell_type": "markdown",
   "metadata": {},
   "source": [
    "Handling the missing data for the Browser User agent"
   ]
  },
  {
   "cell_type": "code",
   "execution_count": 14,
   "metadata": {
    "collapsed": true
   },
   "outputs": [],
   "source": [
    "web_browsers = df['a'].dropna()"
   ]
  },
  {
   "cell_type": "markdown",
   "metadata": {},
   "source": [
    "Splitting the User browser agent data to obtain browser information"
   ]
  },
  {
   "cell_type": "code",
   "execution_count": 15,
   "metadata": {
    "collapsed": true
   },
   "outputs": [],
   "source": [
    "browser_type = Series([browser.split()[0] for browser in web_browsers])"
   ]
  },
  {
   "cell_type": "markdown",
   "metadata": {},
   "source": [
    "Counting the number of Instances for all the top 5 browsers and loading it into a new variable"
   ]
  },
  {
   "cell_type": "code",
   "execution_count": 16,
   "metadata": {
    "collapsed": true
   },
   "outputs": [],
   "source": [
    "top_browsers = browser_type.value_counts()[:5]"
   ]
  },
  {
   "cell_type": "markdown",
   "metadata": {},
   "source": [
    "Visualizing the Top 5 Browsers for the Bitlinks"
   ]
  },
  {
   "cell_type": "code",
   "execution_count": 17,
   "metadata": {
    "collapsed": false
   },
   "outputs": [
    {
     "data": {
      "text/plain": [
       "<matplotlib.axes._subplots.AxesSubplot at 0x601c09afd0>"
      ]
     },
     "execution_count": 17,
     "metadata": {},
     "output_type": "execute_result"
    },
    {
     "data": {
      "image/png": "[encoded data removed]",
      "text/plain": [
       "<matplotlib.figure.Figure at 0x601c09a7b8>"
      ]
     },
     "metadata": {},
     "output_type": "display_data"
    }
   ],
   "source": [
    "top_browsers.plot(kind='bar', figsize=(10, 6), title='Top 10 Browsers for Bitlinks')"
   ]
  },
  {
   "cell_type": "markdown",
   "metadata": {},
   "source": [
    "#### Analyzing the number of Instances based on Windows, Mac OS, Android and iPhone systems"
   ]
  },
  {
   "cell_type": "markdown",
   "metadata": {},
   "source": [
    "Creating a new Dframe where the Null values of User browser agent are ignored"
   ]
  },
  {
   "cell_type": "code",
   "execution_count": 18,
   "metadata": {
    "collapsed": false
   },
   "outputs": [],
   "source": [
    "dframe = df[df['a'].notnull()]"
   ]
  },
  {
   "cell_type": "markdown",
   "metadata": {},
   "source": [
    "Assigning a new column in the Dframe for the type of System accessing the Bitlinks"
   ]
  },
  {
   "cell_type": "code",
   "execution_count": 35,
   "metadata": {
    "collapsed": true
   },
   "outputs": [],
   "source": [
    "OS_Windows = np.where(dframe['a'].dropna().str.contains('Windows'), 'Windows system', 'Not Windows')\n",
    "OS_Windows = pd.DataFrame(OS_Windows)\n",
    "OS_Windows.columns = ['Windows system or Not']"
   ]
  },
  {
   "cell_type": "code",
   "execution_count": 37,
   "metadata": {
    "collapsed": false
   },
   "outputs": [],
   "source": [
    "OS_Mac = np.where(dframe['a'].str.contains('Mac OS'), 'Mac OS system', 'Not Mac OS')\n",
    "OS_Mac = pd.DataFrame(OS_Mac)\n",
    "OS_Mac.columns = ['Mac OS system or Not']"
   ]
  },
  {
   "cell_type": "code",
   "execution_count": 38,
   "metadata": {
    "collapsed": true
   },
   "outputs": [],
   "source": [
    "Android = np.where(dframe['a'].dropna().str.contains('Android'), 'Android system', 'Not Android')\n",
    "Android = pd.DataFrame(Android)\n",
    "Android.columns = ['Android system or Not']"
   ]
  },
  {
   "cell_type": "code",
   "execution_count": 39,
   "metadata": {
    "collapsed": true
   },
   "outputs": [],
   "source": [
    "iPhone = np.where(dframe['a'].dropna().str.contains('iPhone'), 'iPhone system', 'Not an iPhone')\n",
    "iPhone = pd.DataFrame(iPhone)\n",
    "iPhone.columns = ['iPhone device or Not']"
   ]
  },
  {
   "cell_type": "code",
   "execution_count": 40,
   "metadata": {
    "collapsed": true
   },
   "outputs": [],
   "source": [
    "win_inst = OS_Windows['Windows system or Not'].str.contains(r'Windows system').sum()\n",
    "mac_inst = OS_Mac['Mac OS system or Not'].str.contains(r'Mac OS system').sum()\n",
    "android_inst = Android['Android system or Not'].str.contains(r'Android system').sum()\n",
    "iphone_inst = iPhone['iPhone device or Not'].str.contains(r'iPhone system').sum()"
   ]
  },
  {
   "cell_type": "code",
   "execution_count": 44,
   "metadata": {
    "collapsed": false
   },
   "outputs": [],
   "source": [
    "instances = pd.DataFrame( {'Number of Windows instances' : win_inst, 'Number of Mac instances' : mac_inst, 'Number of Android instances' : android_inst, 'Number of iPhone instances' : iphone_inst}, index = ['Type of Device'] )"
   ]
  },
  {
   "cell_type": "code",
   "execution_count": 46,
   "metadata": {
    "collapsed": false
   },
   "outputs": [
    {
     "data": {
      "text/plain": [
       "<matplotlib.axes._subplots.AxesSubplot at 0x600b40a7f0>"
      ]
     },
     "execution_count": 46,
     "metadata": {},
     "output_type": "execute_result"
    },
    {
     "data": {
      "image/png": "[encoded data removed]",
      "text/plain": [
       "<matplotlib.figure.Figure at 0x6082e0dbe0>"
      ]
     },
     "metadata": {},
     "output_type": "display_data"
    }
   ],
   "source": [
    "instances.plot(kind='bar', figsize=(10, 6), title='Most popular Devices accessing Bitlinks')"
   ]
  },
  {
   "cell_type": "code",
   "execution_count": 47,
   "metadata": {
    "collapsed": false
   },
   "outputs": [
    {
     "data": {
      "text/html": [
       "<div>\n",
       "<table border=\"1\" class=\"dataframe\">\n",
       "  <thead>\n",
       "    <tr style=\"text-align: right;\">\n",
       "      <th></th>\n",
       "      <th>Number of Android instances</th>\n",
       "      <th>Number of Mac instances</th>\n",
       "      <th>Number of Windows instances</th>\n",
       "      <th>Number of iPhone instances</th>\n",
       "    </tr>\n",
       "  </thead>\n",
       "  <tbody>\n",
       "    <tr>\n",
       "      <th>Type of Device</th>\n",
       "      <td>910606</td>\n",
       "      <td>853716</td>\n",
       "      <td>1188716</td>\n",
       "      <td>702734</td>\n",
       "    </tr>\n",
       "  </tbody>\n",
       "</table>\n",
       "</div>"
      ],
      "text/plain": [
       "                Number of Android instances  Number of Mac instances  \\\n",
       "Type of Device                       910606                   853716   \n",
       "\n",
       "                Number of Windows instances  Number of iPhone instances  \n",
       "Type of Device                      1188716                      702734  "
      ]
     },
     "execution_count": 47,
     "metadata": {},
     "output_type": "execute_result"
    }
   ],
   "source": [
    "instances"
   ]
  },
  {
   "cell_type": "markdown",
   "metadata": {},
   "source": [
    "#### Analyzing the Top 10 countries with the most number of Bitlink instances"
   ]
  },
  {
   "cell_type": "markdown",
   "metadata": {},
   "source": [
    "Dealing with the missing and the blank values for the Country column"
   ]
  },
  {
   "cell_type": "code",
   "execution_count": 48,
   "metadata": {
    "collapsed": true
   },
   "outputs": [],
   "source": [
    "df['c'].fillna(value='Missing', inplace=True)"
   ]
  },
  {
   "cell_type": "code",
   "execution_count": 49,
   "metadata": {
    "collapsed": true
   },
   "outputs": [],
   "source": [
    "df[df['c'] == ''] = 'Unknown'"
   ]
  },
  {
   "cell_type": "code",
   "execution_count": 50,
   "metadata": {
    "collapsed": true
   },
   "outputs": [],
   "source": [
    "top_countries = df['c'].value_counts()"
   ]
  },
  {
   "cell_type": "code",
   "execution_count": 51,
   "metadata": {
    "collapsed": false
   },
   "outputs": [
    {
     "data": {
      "text/plain": [
       "US    1008105\n",
       "TW     167992\n",
       "BR     149813\n",
       "JP     124276\n",
       "GB     109017\n",
       "FR      99787\n",
       "DE      94626\n",
       "IT      91250\n",
       "TR      80736\n",
       "IN      75509\n",
       "Name: c, dtype: int64"
      ]
     },
     "execution_count": 51,
     "metadata": {},
     "output_type": "execute_result"
    }
   ],
   "source": [
    "top_countries[:10]"
   ]
  },
  {
   "cell_type": "code",
   "execution_count": 52,
   "metadata": {
    "collapsed": false
   },
   "outputs": [
    {
     "data": {
      "text/plain": [
       "<matplotlib.axes._subplots.AxesSubplot at 0x601c77f7f0>"
      ]
     },
     "execution_count": 52,
     "metadata": {},
     "output_type": "execute_result"
    },
    {
     "data": {
      "image/png": "[encoded data removed]",
      "text/plain": [
       "<matplotlib.figure.Figure at 0x60830174a8>"
      ]
     },
     "metadata": {},
     "output_type": "display_data"
    }
   ],
   "source": [
    "top_countries[:10].plot(kind='barh', figsize=(10, 6), title='Top 10 Countries with most Bitlink instances')"
   ]
  },
  {
   "cell_type": "markdown",
   "metadata": {
    "collapsed": true
   },
   "source": [
    "#### Analyzing the Top 10 most active users"
   ]
  },
  {
   "cell_type": "markdown",
   "metadata": {},
   "source": [
    "##### Analyzing the Top 10 active users based on no. of instances"
   ]
  },
  {
   "cell_type": "code",
   "execution_count": 53,
   "metadata": {
    "collapsed": false
   },
   "outputs": [
    {
     "data": {
      "text/plain": [
       "1xupVE6    291553\n",
       "1xx3efT     72592\n",
       "1wjzKjw     55342\n",
       "1lj67KP     41592\n",
       "18xsLfw     24093\n",
       "1bsU78E     20860\n",
       "1Im9An5     17972\n",
       "1vxSX3E     13480\n",
       "1w3mXlD     10480\n",
       "1ceCjf6      9669\n",
       "Name: h, dtype: int64"
      ]
     },
     "execution_count": 53,
     "metadata": {},
     "output_type": "execute_result"
    }
   ],
   "source": [
    "df['h'].value_counts(sort=True, ascending=False).head(10)"
   ]
  },
  {
   "cell_type": "markdown",
   "metadata": {},
   "source": [
    "##### Analyzing the Top 10 active users based on the most no of repeat-clicks"
   ]
  },
  {
   "cell_type": "code",
   "execution_count": 55,
   "metadata": {
    "collapsed": false
   },
   "outputs": [],
   "source": [
    "repeat_client = dframe.groupby(\"h\").agg({\"nk\": np.sum, \"h\": pd.Series.nunique})"
   ]
  },
  {
   "cell_type": "code",
   "execution_count": 57,
   "metadata": {
    "collapsed": false
   },
   "outputs": [
    {
     "name": "stderr",
     "output_type": "stream",
     "text": [
      "C:\\Users\\Chiku\\Anaconda3\\lib\\site-packages\\ipykernel\\__main__.py:1: FutureWarning: sort(columns=....) is deprecated, use sort_values(by=.....)\n",
      "  if __name__ == '__main__':\n"
     ]
    },
    {
     "data": {
      "text/html": [
       "<div>\n",
       "<table border=\"1\" class=\"dataframe\">\n",
       "  <thead>\n",
       "    <tr style=\"text-align: right;\">\n",
       "      <th></th>\n",
       "      <th>nk</th>\n",
       "      <th>h</th>\n",
       "    </tr>\n",
       "    <tr>\n",
       "      <th>h</th>\n",
       "      <th></th>\n",
       "      <th></th>\n",
       "    </tr>\n",
       "  </thead>\n",
       "  <tbody>\n",
       "    <tr>\n",
       "      <th>1xx3efT</th>\n",
       "      <td>57088</td>\n",
       "      <td>1</td>\n",
       "    </tr>\n",
       "    <tr>\n",
       "      <th>1wjzKjw</th>\n",
       "      <td>54310</td>\n",
       "      <td>1</td>\n",
       "    </tr>\n",
       "    <tr>\n",
       "      <th>1bsU78E</th>\n",
       "      <td>19164</td>\n",
       "      <td>1</td>\n",
       "    </tr>\n",
       "    <tr>\n",
       "      <th>18xsLfw</th>\n",
       "      <td>11434</td>\n",
       "      <td>1</td>\n",
       "    </tr>\n",
       "    <tr>\n",
       "      <th>1vxSX3E</th>\n",
       "      <td>8748</td>\n",
       "      <td>1</td>\n",
       "    </tr>\n",
       "    <tr>\n",
       "      <th>1Im9An5</th>\n",
       "      <td>8445</td>\n",
       "      <td>1</td>\n",
       "    </tr>\n",
       "    <tr>\n",
       "      <th>1yNztpt</th>\n",
       "      <td>6404</td>\n",
       "      <td>1</td>\n",
       "    </tr>\n",
       "    <tr>\n",
       "      <th>1N66YJp</th>\n",
       "      <td>5512</td>\n",
       "      <td>1</td>\n",
       "    </tr>\n",
       "    <tr>\n",
       "      <th>1F7lcFZ</th>\n",
       "      <td>5388</td>\n",
       "      <td>1</td>\n",
       "    </tr>\n",
       "    <tr>\n",
       "      <th>1xgbzqw</th>\n",
       "      <td>5364</td>\n",
       "      <td>1</td>\n",
       "    </tr>\n",
       "  </tbody>\n",
       "</table>\n",
       "</div>"
      ],
      "text/plain": [
       "            nk  h\n",
       "h                \n",
       "1xx3efT  57088  1\n",
       "1wjzKjw  54310  1\n",
       "1bsU78E  19164  1\n",
       "18xsLfw  11434  1\n",
       "1vxSX3E   8748  1\n",
       "1Im9An5   8445  1\n",
       "1yNztpt   6404  1\n",
       "1N66YJp   5512  1\n",
       "1F7lcFZ   5388  1\n",
       "1xgbzqw   5364  1"
      ]
     },
     "execution_count": 57,
     "metadata": {},
     "output_type": "execute_result"
    }
   ],
   "source": [
    "repeat_client.sort('nk', ascending=False).head(10)"
   ]
  },
  {
   "cell_type": "markdown",
   "metadata": {},
   "source": [
    "## Bitly Challenge Decode Dataset 1 file\n",
    "### Access it at: http://nbviewer.jupyter.org/github/namman2/Data-Analytics-Projects/tree/master/"
   ]
  }
 ],
 "metadata": {
  "kernelspec": {
   "display_name": "Python 3",
   "language": "python",
   "name": "python3"
  },
  "language_info": {
   "codemirror_mode": {
    "name": "ipython",
    "version": 3
   },
   "file_extension": ".py",
   "mimetype": "text/x-python",
   "name": "python",
   "nbconvert_exporter": "python",
   "pygments_lexer": "ipython3",
   "version": "3.5.1"
  }
 },
 "nbformat": 4,
 "nbformat_minor": 0
}
