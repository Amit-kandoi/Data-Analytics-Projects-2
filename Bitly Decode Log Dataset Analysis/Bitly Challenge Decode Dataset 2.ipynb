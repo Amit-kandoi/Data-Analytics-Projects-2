{
 "cells": [
  {
   "cell_type": "markdown",
   "metadata": {},
   "source": [
    "### Importing all the essential Python Libraries"
   ]
  },
  {
   "cell_type": "markdown",
   "metadata": {},
   "source": [
    "All of the Essential Python libraries are loaded for performing the dataset analysis."
   ]
  },
  {
   "cell_type": "code",
   "execution_count": 1,
   "metadata": {
    "collapsed": true
   },
   "outputs": [],
   "source": [
    "import pandas as pd\n",
    "from pandas import DataFrame, Series\n",
    "import numpy as np\n",
    "import matplotlib.pyplot as plt\n",
    "import json\n",
    "%matplotlib inline"
   ]
  },
  {
   "cell_type": "markdown",
   "metadata": {},
   "source": [
    "### Defining the file path to the Decode events log dataset"
   ]
  },
  {
   "cell_type": "markdown",
   "metadata": {},
   "source": [
    "The location of the JSON file is stored into the file_path variable for loading in the dataset"
   ]
  },
  {
   "cell_type": "code",
   "execution_count": 3,
   "metadata": {
    "collapsed": true
   },
   "outputs": [],
   "source": [
    "file_path = 'C://Users/Chiku/Downloads/Bitly Challenge/decodesab.json'"
   ]
  },
  {
   "cell_type": "markdown",
   "metadata": {},
   "source": [
    "### Loading in the Decode log JSON dataset into Python"
   ]
  },
  {
   "cell_type": "markdown",
   "metadata": {},
   "source": [
    "Using the json library of python and the load function, the entire dataset is loaded into decode_log"
   ]
  },
  {
   "cell_type": "code",
   "execution_count": 4,
   "metadata": {
    "collapsed": true
   },
   "outputs": [],
   "source": [
    "decode_log = [json.loads(line) for line in open(file_path)]"
   ]
  },
  {
   "cell_type": "markdown",
   "metadata": {},
   "source": [
    "### Displaying the first two records from the Dataset"
   ]
  },
  {
   "cell_type": "markdown",
   "metadata": {},
   "source": [
    "Taking a first look at the loaded dataset through the first two records field. This ensures that the dataset has been read properly and also gives some basic information regarding the attributes and values in the records."
   ]
  },
  {
   "cell_type": "code",
   "execution_count": 5,
   "metadata": {
    "collapsed": false
   },
   "outputs": [
    {
     "data": {
      "text/plain": [
       "{'a': 'Mozilla/5.0 (Windows NT 6.2; WOW64) AppleWebKit/537.36 (KHTML, like Gecko) Chrome/41.0.2272.89 Safari/537.36',\n",
       " 'c': 'BR',\n",
       " 'cy': 'Recife',\n",
       " 'g': '19jlpwu',\n",
       " 'h': '19jlpwt',\n",
       " 'nk': 1,\n",
       " 't': 1427289010,\n",
       " 'tz': 'America/Recife',\n",
       " 'u': 'http://esporteinterativo.com.br/futebol-brasileiro/muricy-ramalho-revela-fator-que-causa-seus-problemas-de-saude-nao-suporto-coisa-errada/'}"
      ]
     },
     "execution_count": 5,
     "metadata": {},
     "output_type": "execute_result"
    }
   ],
   "source": [
    "decode_log[0]"
   ]
  },
  {
   "cell_type": "code",
   "execution_count": 6,
   "metadata": {
    "collapsed": false
   },
   "outputs": [
    {
     "data": {
      "text/plain": [
       "{'a': 'Mozilla/5.0 (Linux; Android 5.0; SM-G900P Build/LRX21T) AppleWebKit/537.36 (KHTML, like Gecko) Version/4.0 Chrome/40.0.0.0 Mobile Safari/537.36',\n",
       " 'c': 'US',\n",
       " 'cy': 'Temperance',\n",
       " 'g': '1y5BfRS',\n",
       " 'h': '1y5BfRR',\n",
       " 'mc': 505,\n",
       " 'nk': 0,\n",
       " 't': 1427289010,\n",
       " 'tz': 'America/New_York',\n",
       " 'u': 'http://trib.al/9DnaKzr'}"
      ]
     },
     "execution_count": 6,
     "metadata": {},
     "output_type": "execute_result"
    }
   ],
   "source": [
    "decode_log[1]"
   ]
  },
  {
   "cell_type": "markdown",
   "metadata": {},
   "source": [
    "### Converting the Dataset into a Python DataFrame"
   ]
  },
  {
   "cell_type": "markdown",
   "metadata": {},
   "source": [
    "The loaded dataset is now converted into a Python DataFrame, which makes the analysis easy and straightforward."
   ]
  },
  {
   "cell_type": "code",
   "execution_count": 7,
   "metadata": {
    "collapsed": true
   },
   "outputs": [],
   "source": [
    "df = pd.DataFrame(decode_log)"
   ]
  },
  {
   "cell_type": "markdown",
   "metadata": {},
   "source": [
    "#### Initial examination of the DataFrame"
   ]
  },
  {
   "cell_type": "markdown",
   "metadata": {},
   "source": [
    "Further, the DataFrame created could be inspected using the pandas DataFrame's shape and head functions"
   ]
  },
  {
   "cell_type": "code",
   "execution_count": 8,
   "metadata": {
    "collapsed": false
   },
   "outputs": [
    {
     "data": {
      "text/plain": [
       "(3137627, 14)"
      ]
     },
     "execution_count": 8,
     "metadata": {},
     "output_type": "execute_result"
    }
   ],
   "source": [
    "df.shape"
   ]
  },
  {
   "cell_type": "code",
   "execution_count": 9,
   "metadata": {
    "collapsed": false
   },
   "outputs": [
    {
     "data": {
      "text/html": [
       "<div>\n",
       "<table border=\"1\" class=\"dataframe\">\n",
       "  <thead>\n",
       "    <tr style=\"text-align: right;\">\n",
       "      <th></th>\n",
       "      <th>a</th>\n",
       "      <th>c</th>\n",
       "      <th>ckw</th>\n",
       "      <th>cy</th>\n",
       "      <th>dp</th>\n",
       "      <th>g</th>\n",
       "      <th>h</th>\n",
       "      <th>kw</th>\n",
       "      <th>mc</th>\n",
       "      <th>nk</th>\n",
       "      <th>pp</th>\n",
       "      <th>t</th>\n",
       "      <th>tz</th>\n",
       "      <th>u</th>\n",
       "    </tr>\n",
       "  </thead>\n",
       "  <tbody>\n",
       "    <tr>\n",
       "      <th>0</th>\n",
       "      <td>Mozilla/5.0 (Windows NT 6.2; WOW64) AppleWebKi...</td>\n",
       "      <td>BR</td>\n",
       "      <td>NaN</td>\n",
       "      <td>Recife</td>\n",
       "      <td>NaN</td>\n",
       "      <td>19jlpwu</td>\n",
       "      <td>19jlpwt</td>\n",
       "      <td>NaN</td>\n",
       "      <td>NaN</td>\n",
       "      <td>1</td>\n",
       "      <td>NaN</td>\n",
       "      <td>1427289010</td>\n",
       "      <td>America/Recife</td>\n",
       "      <td>http://esporteinterativo.com.br/futebol-brasil...</td>\n",
       "    </tr>\n",
       "    <tr>\n",
       "      <th>1</th>\n",
       "      <td>Mozilla/5.0 (Linux; Android 5.0; SM-G900P Buil...</td>\n",
       "      <td>US</td>\n",
       "      <td>NaN</td>\n",
       "      <td>Temperance</td>\n",
       "      <td>NaN</td>\n",
       "      <td>1y5BfRS</td>\n",
       "      <td>1y5BfRR</td>\n",
       "      <td>NaN</td>\n",
       "      <td>505</td>\n",
       "      <td>0</td>\n",
       "      <td>NaN</td>\n",
       "      <td>1427289010</td>\n",
       "      <td>America/New_York</td>\n",
       "      <td>http://trib.al/9DnaKzr</td>\n",
       "    </tr>\n",
       "    <tr>\n",
       "      <th>2</th>\n",
       "      <td>Mozilla/5.0 (Linux; Android 4.4.2; K00E Build/...</td>\n",
       "      <td>TW</td>\n",
       "      <td>NaN</td>\n",
       "      <td>Tainan</td>\n",
       "      <td>NaN</td>\n",
       "      <td>1LWVHzT</td>\n",
       "      <td>1LWVHzS</td>\n",
       "      <td>NaN</td>\n",
       "      <td>NaN</td>\n",
       "      <td>1</td>\n",
       "      <td>NaN</td>\n",
       "      <td>1427289010</td>\n",
       "      <td>Asia/Taipei</td>\n",
       "      <td>https://tw.news.yahoo.com/blogs/society-watch/...</td>\n",
       "    </tr>\n",
       "    <tr>\n",
       "      <th>3</th>\n",
       "      <td>Mozilla/5.0 (Linux; U; Android 4.2.2; en-us; I...</td>\n",
       "      <td>US</td>\n",
       "      <td>NaN</td>\n",
       "      <td>Columbus</td>\n",
       "      <td>NaN</td>\n",
       "      <td>1xsVXk3</td>\n",
       "      <td>1xsVXk2</td>\n",
       "      <td>NaN</td>\n",
       "      <td>535</td>\n",
       "      <td>0</td>\n",
       "      <td>NaN</td>\n",
       "      <td>1427289010</td>\n",
       "      <td>America/New_York</td>\n",
       "      <td>http://trib.al/WmVq3Vz</td>\n",
       "    </tr>\n",
       "    <tr>\n",
       "      <th>4</th>\n",
       "      <td>Mozilla/4.0 (compatible; MSIE 7.0; Windows NT ...</td>\n",
       "      <td>US</td>\n",
       "      <td>NaN</td>\n",
       "      <td>Malden</td>\n",
       "      <td>NaN</td>\n",
       "      <td>1vxSX3F</td>\n",
       "      <td>1vxSX3E</td>\n",
       "      <td>NaN</td>\n",
       "      <td>506</td>\n",
       "      <td>1</td>\n",
       "      <td>NaN</td>\n",
       "      <td>1427289010</td>\n",
       "      <td>America/New_York</td>\n",
       "      <td>http://agents.trulia.com/l/42972/2014-11-21/sj...</td>\n",
       "    </tr>\n",
       "  </tbody>\n",
       "</table>\n",
       "</div>"
      ],
      "text/plain": [
       "                                                   a   c  ckw          cy  \\\n",
       "0  Mozilla/5.0 (Windows NT 6.2; WOW64) AppleWebKi...  BR  NaN      Recife   \n",
       "1  Mozilla/5.0 (Linux; Android 5.0; SM-G900P Buil...  US  NaN  Temperance   \n",
       "2  Mozilla/5.0 (Linux; Android 4.4.2; K00E Build/...  TW  NaN      Tainan   \n",
       "3  Mozilla/5.0 (Linux; U; Android 4.2.2; en-us; I...  US  NaN    Columbus   \n",
       "4  Mozilla/4.0 (compatible; MSIE 7.0; Windows NT ...  US  NaN      Malden   \n",
       "\n",
       "    dp        g        h   kw   mc  nk   pp           t                tz  \\\n",
       "0  NaN  19jlpwu  19jlpwt  NaN  NaN   1  NaN  1427289010    America/Recife   \n",
       "1  NaN  1y5BfRS  1y5BfRR  NaN  505   0  NaN  1427289010  America/New_York   \n",
       "2  NaN  1LWVHzT  1LWVHzS  NaN  NaN   1  NaN  1427289010       Asia/Taipei   \n",
       "3  NaN  1xsVXk3  1xsVXk2  NaN  535   0  NaN  1427289010  America/New_York   \n",
       "4  NaN  1vxSX3F  1vxSX3E  NaN  506   1  NaN  1427289010  America/New_York   \n",
       "\n",
       "                                                   u  \n",
       "0  http://esporteinterativo.com.br/futebol-brasil...  \n",
       "1                             http://trib.al/9DnaKzr  \n",
       "2  https://tw.news.yahoo.com/blogs/society-watch/...  \n",
       "3                             http://trib.al/WmVq3Vz  \n",
       "4  http://agents.trulia.com/l/42972/2014-11-21/sj...  "
      ]
     },
     "execution_count": 9,
     "metadata": {},
     "output_type": "execute_result"
    }
   ],
   "source": [
    "df.head()"
   ]
  },
  {
   "cell_type": "markdown",
   "metadata": {},
   "source": [
    "### Beginning the dataset Analysis"
   ]
  },
  {
   "cell_type": "markdown",
   "metadata": {},
   "source": [
    "#### Analysing the Top 10 Timezones for Bitlinks"
   ]
  },
  {
   "cell_type": "markdown",
   "metadata": {},
   "source": [
    "Dealing with the Missing and Blank values for the Timezone, by putting in 'Missing' for the missing fields and 'Unknown' for the Blank fields"
   ]
  },
  {
   "cell_type": "code",
   "execution_count": 10,
   "metadata": {
    "collapsed": true
   },
   "outputs": [],
   "source": [
    "df['tz'].fillna(value='Missing', inplace=True)"
   ]
  },
  {
   "cell_type": "code",
   "execution_count": 11,
   "metadata": {
    "collapsed": true
   },
   "outputs": [],
   "source": [
    "df[df['tz'] == ''] = 'Unknown'"
   ]
  },
  {
   "cell_type": "code",
   "execution_count": 12,
   "metadata": {
    "collapsed": true
   },
   "outputs": [],
   "source": [
    "top_tz = df['tz'].value_counts()"
   ]
  },
  {
   "cell_type": "markdown",
   "metadata": {},
   "source": [
    "Listing out the Top 10 Timezones for the Bitlinks"
   ]
  },
  {
   "cell_type": "code",
   "execution_count": 13,
   "metadata": {
    "collapsed": false
   },
   "outputs": [
    {
     "data": {
      "text/plain": [
       "America/New_York       466177\n",
       "Missing                296888\n",
       "America/Chicago        194975\n",
       "Asia/Taipei            163667\n",
       "America/Los_Angeles    129507\n",
       "Asia/Tokyo             122138\n",
       "Europe/London          110892\n",
       "America/Sao_Paulo       95984\n",
       "Europe/Paris            94823\n",
       "Europe/Berlin           92840\n",
       "Name: tz, dtype: int64"
      ]
     },
     "execution_count": 13,
     "metadata": {},
     "output_type": "execute_result"
    }
   ],
   "source": [
    "top_tz[:10]"
   ]
  },
  {
   "cell_type": "markdown",
   "metadata": {},
   "source": [
    "Visualizing the Top 10 Timezones for the Bitlinks"
   ]
  },
  {
   "cell_type": "code",
   "execution_count": 14,
   "metadata": {
    "collapsed": false
   },
   "outputs": [
    {
     "data": {
      "text/plain": [
       "<matplotlib.axes._subplots.AxesSubplot at 0xed8bead048>"
      ]
     },
     "execution_count": 14,
     "metadata": {},
     "output_type": "execute_result"
    },
    {
     "data": {
      "image/png": "[encoded data removed]",
      "text/plain": [
       "<matplotlib.figure.Figure at 0xed8be87278>"
      ]
     },
     "metadata": {},
     "output_type": "display_data"
    }
   ],
   "source": [
    "top_tz[:10].plot(kind='barh', figsize=(10, 6), title='Top 10 Timezones for Bitlinks')"
   ]
  },
  {
   "cell_type": "markdown",
   "metadata": {},
   "source": [
    "#### Analyzing the Top 5 Browsers based on Bit.ly instances"
   ]
  },
  {
   "cell_type": "markdown",
   "metadata": {},
   "source": [
    "Handling the missing data for the Browser User agent"
   ]
  },
  {
   "cell_type": "code",
   "execution_count": 15,
   "metadata": {
    "collapsed": true
   },
   "outputs": [],
   "source": [
    "web_browsers = df['a'].dropna()"
   ]
  },
  {
   "cell_type": "markdown",
   "metadata": {},
   "source": [
    "Splitting the User browser agent data to obtain browser information"
   ]
  },
  {
   "cell_type": "code",
   "execution_count": 16,
   "metadata": {
    "collapsed": true
   },
   "outputs": [],
   "source": [
    "browser_type = Series([browser.split()[0] for browser in web_browsers])"
   ]
  },
  {
   "cell_type": "markdown",
   "metadata": {},
   "source": [
    "Counting the number of Instances for all the top 5 browsers and loading it into a new variable"
   ]
  },
  {
   "cell_type": "code",
   "execution_count": 17,
   "metadata": {
    "collapsed": true
   },
   "outputs": [],
   "source": [
    "top_browsers = browser_type.value_counts()[:5]"
   ]
  },
  {
   "cell_type": "markdown",
   "metadata": {},
   "source": [
    "Visualizing the Top 5 Browsers for the Bitlinks"
   ]
  },
  {
   "cell_type": "code",
   "execution_count": 18,
   "metadata": {
    "collapsed": false
   },
   "outputs": [
    {
     "data": {
      "text/plain": [
       "<matplotlib.axes._subplots.AxesSubplot at 0xed9cee6630>"
      ]
     },
     "execution_count": 18,
     "metadata": {},
     "output_type": "execute_result"
    },
    {
     "data": {
      "image/png": "[encoded data removed]",
      "text/plain": [
       "<matplotlib.figure.Figure at 0xed9cc06d68>"
      ]
     },
     "metadata": {},
     "output_type": "display_data"
    }
   ],
   "source": [
    "top_browsers.plot(kind='bar', figsize=(10, 6), title='Top 10 Browsers for Bitlinks')"
   ]
  },
  {
   "cell_type": "markdown",
   "metadata": {},
   "source": [
    "#### Analyzing the number of Instances based on Windows, Mac OS, Android and iPhone systems"
   ]
  },
  {
   "cell_type": "markdown",
   "metadata": {},
   "source": [
    "Creating a new Dframe where the Null values of User browser agent are ignored"
   ]
  },
  {
   "cell_type": "code",
   "execution_count": 19,
   "metadata": {
    "collapsed": true
   },
   "outputs": [],
   "source": [
    "dframe = df[df['a'].notnull()]"
   ]
  },
  {
   "cell_type": "markdown",
   "metadata": {},
   "source": [
    "Four different Objects are created for classifying the DataFrame based on the different Systems like Windows, Mac OS, Android and iphone"
   ]
  },
  {
   "cell_type": "code",
   "execution_count": 20,
   "metadata": {
    "collapsed": true
   },
   "outputs": [],
   "source": [
    "OS_Windows = np.where(dframe['a'].dropna().str.contains('Windows'), 'Windows system', 'Not Windows')\n",
    "OS_Windows = pd.DataFrame(OS_Windows)\n",
    "OS_Windows.columns = ['Windows system or Not']"
   ]
  },
  {
   "cell_type": "code",
   "execution_count": 21,
   "metadata": {
    "collapsed": true
   },
   "outputs": [],
   "source": [
    "OS_Mac = np.where(dframe['a'].str.contains('Mac OS'), 'Mac OS system', 'Not Mac OS')\n",
    "OS_Mac = pd.DataFrame(OS_Mac)\n",
    "OS_Mac.columns = ['Mac OS system or Not']"
   ]
  },
  {
   "cell_type": "code",
   "execution_count": 22,
   "metadata": {
    "collapsed": true
   },
   "outputs": [],
   "source": [
    "Android = np.where(dframe['a'].dropna().str.contains('Android'), 'Android system', 'Not Android')\n",
    "Android = pd.DataFrame(Android)\n",
    "Android.columns = ['Android system or Not']"
   ]
  },
  {
   "cell_type": "code",
   "execution_count": 23,
   "metadata": {
    "collapsed": true
   },
   "outputs": [],
   "source": [
    "iPhone = np.where(dframe['a'].dropna().str.contains('iPhone'), 'iPhone system', 'Not an iPhone')\n",
    "iPhone = pd.DataFrame(iPhone)\n",
    "iPhone.columns = ['iPhone device or Not']"
   ]
  },
  {
   "cell_type": "markdown",
   "metadata": {},
   "source": [
    "Creating new objects to track the number of instances of a record being identified as one among the Windows, Mac OS, Android or iPhone system"
   ]
  },
  {
   "cell_type": "code",
   "execution_count": 24,
   "metadata": {
    "collapsed": true
   },
   "outputs": [],
   "source": [
    "win_inst = OS_Windows['Windows system or Not'].str.contains(r'Windows system').sum()\n",
    "mac_inst = OS_Mac['Mac OS system or Not'].str.contains(r'Mac OS system').sum()\n",
    "android_inst = Android['Android system or Not'].str.contains(r'Android system').sum()\n",
    "iphone_inst = iPhone['iPhone device or Not'].str.contains(r'iPhone system').sum()"
   ]
  },
  {
   "cell_type": "markdown",
   "metadata": {},
   "source": [
    "A new DataFrame is now created based on the data from the previously generated objects, to organize the total number of instances for each of the device"
   ]
  },
  {
   "cell_type": "code",
   "execution_count": 25,
   "metadata": {
    "collapsed": true
   },
   "outputs": [],
   "source": [
    "instances = pd.DataFrame( {'Number of Windows instances' : win_inst, 'Number of Mac instances' : mac_inst, 'Number of Android instances' : android_inst, 'Number of iPhone instances' : iphone_inst}, index = ['Type of Device'] )"
   ]
  },
  {
   "cell_type": "markdown",
   "metadata": {},
   "source": [
    "Visualizing the popularity of different devices/systems for the given dataset"
   ]
  },
  {
   "cell_type": "code",
   "execution_count": 26,
   "metadata": {
    "collapsed": false
   },
   "outputs": [
    {
     "data": {
      "text/plain": [
       "<matplotlib.axes._subplots.AxesSubplot at 0xed9cefcac8>"
      ]
     },
     "execution_count": 26,
     "metadata": {},
     "output_type": "execute_result"
    },
    {
     "data": {
      "image/png": "[encoded data removed]",
      "text/plain": [
       "<matplotlib.figure.Figure at 0xed9cf50d30>"
      ]
     },
     "metadata": {},
     "output_type": "display_data"
    }
   ],
   "source": [
    "instances.plot(kind='bar', figsize=(10, 6), title='Most popular Devices accessing Bitlinks')"
   ]
  },
  {
   "cell_type": "markdown",
   "metadata": {},
   "source": [
    "Outputting the numerical values of the number of instances for the different devices/systems"
   ]
  },
  {
   "cell_type": "code",
   "execution_count": 27,
   "metadata": {
    "collapsed": false
   },
   "outputs": [
    {
     "data": {
      "text/html": [
       "<div>\n",
       "<table border=\"1\" class=\"dataframe\">\n",
       "  <thead>\n",
       "    <tr style=\"text-align: right;\">\n",
       "      <th></th>\n",
       "      <th>Number of Android instances</th>\n",
       "      <th>Number of Mac instances</th>\n",
       "      <th>Number of Windows instances</th>\n",
       "      <th>Number of iPhone instances</th>\n",
       "    </tr>\n",
       "  </thead>\n",
       "  <tbody>\n",
       "    <tr>\n",
       "      <th>Type of Device</th>\n",
       "      <td>901739</td>\n",
       "      <td>840072</td>\n",
       "      <td>1207881</td>\n",
       "      <td>691976</td>\n",
       "    </tr>\n",
       "  </tbody>\n",
       "</table>\n",
       "</div>"
      ],
      "text/plain": [
       "                Number of Android instances  Number of Mac instances  \\\n",
       "Type of Device                       901739                   840072   \n",
       "\n",
       "                Number of Windows instances  Number of iPhone instances  \n",
       "Type of Device                      1207881                      691976  "
      ]
     },
     "execution_count": 27,
     "metadata": {},
     "output_type": "execute_result"
    }
   ],
   "source": [
    "instances"
   ]
  },
  {
   "cell_type": "markdown",
   "metadata": {},
   "source": [
    "#### Analyzing the Top 10 countries with the most number of Bitlink instances"
   ]
  },
  {
   "cell_type": "markdown",
   "metadata": {},
   "source": [
    "Dealing with the missing and the blank values for the Country column"
   ]
  },
  {
   "cell_type": "code",
   "execution_count": 28,
   "metadata": {
    "collapsed": true
   },
   "outputs": [],
   "source": [
    "df['c'].fillna(value='Missing', inplace=True)"
   ]
  },
  {
   "cell_type": "code",
   "execution_count": 29,
   "metadata": {
    "collapsed": true
   },
   "outputs": [],
   "source": [
    "df[df['c'] == ''] = 'Unknown'"
   ]
  },
  {
   "cell_type": "code",
   "execution_count": 30,
   "metadata": {
    "collapsed": true
   },
   "outputs": [],
   "source": [
    "top_countries = df['c'].value_counts()"
   ]
  },
  {
   "cell_type": "markdown",
   "metadata": {},
   "source": [
    "Listing out the Top 10 countries with the most number of Bitlink instances"
   ]
  },
  {
   "cell_type": "code",
   "execution_count": 31,
   "metadata": {
    "collapsed": false
   },
   "outputs": [
    {
     "data": {
      "text/plain": [
       "US    1015524\n",
       "TW     163667\n",
       "BR     153107\n",
       "JP     122138\n",
       "GB     110892\n",
       "FR      94823\n",
       "DE      92840\n",
       "IT      91611\n",
       "TR      83379\n",
       "IN      74676\n",
       "Name: c, dtype: int64"
      ]
     },
     "execution_count": 31,
     "metadata": {},
     "output_type": "execute_result"
    }
   ],
   "source": [
    "top_countries[:10]"
   ]
  },
  {
   "cell_type": "markdown",
   "metadata": {},
   "source": [
    "Visualizing the Top 10 Countries for the most number of Bitlink instances for the given dataset"
   ]
  },
  {
   "cell_type": "code",
   "execution_count": 32,
   "metadata": {
    "collapsed": false
   },
   "outputs": [
    {
     "data": {
      "text/plain": [
       "<matplotlib.axes._subplots.AxesSubplot at 0xed8c06be80>"
      ]
     },
     "execution_count": 32,
     "metadata": {},
     "output_type": "execute_result"
    },
    {
     "data": {
      "image/png": "[encoded data removed]",
      "text/plain": [
       "<matplotlib.figure.Figure at 0xee11e0def0>"
      ]
     },
     "metadata": {},
     "output_type": "display_data"
    }
   ],
   "source": [
    "top_countries[:10].plot(kind='barh', figsize=(10, 6), title='Top 10 Countries with most Bitlink instances')"
   ]
  },
  {
   "cell_type": "markdown",
   "metadata": {},
   "source": [
    "#### Analyzing the Top 10 most active users"
   ]
  },
  {
   "cell_type": "markdown",
   "metadata": {},
   "source": [
    "The most active users are the ones who play a major role in a company's success and so is the case with Bitlinks! Here, we identify the top 10 most active users based on the user unique hash identifier"
   ]
  },
  {
   "cell_type": "markdown",
   "metadata": {},
   "source": [
    "##### Analyzing the Top 10 active users based on no. of instances"
   ]
  },
  {
   "cell_type": "markdown",
   "metadata": {},
   "source": [
    "Based purely upon the number of instances created by a unique user hash identifier, we calculate the top 10 most unique users based on their actions"
   ]
  },
  {
   "cell_type": "code",
   "execution_count": 33,
   "metadata": {
    "collapsed": false
   },
   "outputs": [
    {
     "data": {
      "text/plain": [
       "1xupVE6    301532\n",
       "1xx3efT     71577\n",
       "1wjzKjw     57032\n",
       "1lj67KP     42972\n",
       "18xsLfw     23888\n",
       "1Im9An5     16381\n",
       "1vxSX3E     13624\n",
       "1bsU78E     12907\n",
       "1w3mXlD      9737\n",
       "1ceCjf6      9263\n",
       "Name: h, dtype: int64"
      ]
     },
     "execution_count": 33,
     "metadata": {},
     "output_type": "execute_result"
    }
   ],
   "source": [
    "df['h'].value_counts(sort=True, ascending=False).head(10)"
   ]
  },
  {
   "cell_type": "markdown",
   "metadata": {},
   "source": [
    "##### Analyzing the Top 10 active users based on the most no of repeat-clicks"
   ]
  },
  {
   "cell_type": "markdown",
   "metadata": {},
   "source": [
    "Repeat-Clicks is a major factor in measuring the 'Clicks per visitor' for Bit.ly users. Here, we sort the users based on their repeat-clicks cookie info. Hence, we find out the top 10 most active users, with the highest frequency of repeat-clicks"
   ]
  },
  {
   "cell_type": "code",
   "execution_count": 34,
   "metadata": {
    "collapsed": true
   },
   "outputs": [],
   "source": [
    "repeat_client = dframe.groupby(\"h\").agg({\"nk\": np.sum, \"h\": pd.Series.nunique})"
   ]
  },
  {
   "cell_type": "code",
   "execution_count": 35,
   "metadata": {
    "collapsed": false
   },
   "outputs": [
    {
     "name": "stderr",
     "output_type": "stream",
     "text": [
      "C:\\Users\\Chiku\\Anaconda3\\lib\\site-packages\\ipykernel\\__main__.py:1: FutureWarning: sort(columns=....) is deprecated, use sort_values(by=.....)\n",
      "  if __name__ == '__main__':\n"
     ]
    },
    {
     "data": {
      "text/html": [
       "<div>\n",
       "<table border=\"1\" class=\"dataframe\">\n",
       "  <thead>\n",
       "    <tr style=\"text-align: right;\">\n",
       "      <th></th>\n",
       "      <th>nk</th>\n",
       "      <th>h</th>\n",
       "    </tr>\n",
       "    <tr>\n",
       "      <th>h</th>\n",
       "      <th></th>\n",
       "      <th></th>\n",
       "    </tr>\n",
       "  </thead>\n",
       "  <tbody>\n",
       "    <tr>\n",
       "      <th>1xx3efT</th>\n",
       "      <td>55941</td>\n",
       "      <td>1</td>\n",
       "    </tr>\n",
       "    <tr>\n",
       "      <th>1wjzKjw</th>\n",
       "      <td>55786</td>\n",
       "      <td>1</td>\n",
       "    </tr>\n",
       "    <tr>\n",
       "      <th>1bsU78E</th>\n",
       "      <td>11821</td>\n",
       "      <td>1</td>\n",
       "    </tr>\n",
       "    <tr>\n",
       "      <th>18xsLfw</th>\n",
       "      <td>11300</td>\n",
       "      <td>1</td>\n",
       "    </tr>\n",
       "    <tr>\n",
       "      <th>1vxSX3E</th>\n",
       "      <td>8709</td>\n",
       "      <td>1</td>\n",
       "    </tr>\n",
       "    <tr>\n",
       "      <th>1Im9An5</th>\n",
       "      <td>7901</td>\n",
       "      <td>1</td>\n",
       "    </tr>\n",
       "    <tr>\n",
       "      <th>1N66YJp</th>\n",
       "      <td>5576</td>\n",
       "      <td>1</td>\n",
       "    </tr>\n",
       "    <tr>\n",
       "      <th>1yNztpt</th>\n",
       "      <td>5369</td>\n",
       "      <td>1</td>\n",
       "    </tr>\n",
       "    <tr>\n",
       "      <th>1HyvxAk</th>\n",
       "      <td>4883</td>\n",
       "      <td>1</td>\n",
       "    </tr>\n",
       "    <tr>\n",
       "      <th>1br7Pc0</th>\n",
       "      <td>4761</td>\n",
       "      <td>1</td>\n",
       "    </tr>\n",
       "  </tbody>\n",
       "</table>\n",
       "</div>"
      ],
      "text/plain": [
       "            nk  h\n",
       "h                \n",
       "1xx3efT  55941  1\n",
       "1wjzKjw  55786  1\n",
       "1bsU78E  11821  1\n",
       "18xsLfw  11300  1\n",
       "1vxSX3E   8709  1\n",
       "1Im9An5   7901  1\n",
       "1N66YJp   5576  1\n",
       "1yNztpt   5369  1\n",
       "1HyvxAk   4883  1\n",
       "1br7Pc0   4761  1"
      ]
     },
     "execution_count": 35,
     "metadata": {},
     "output_type": "execute_result"
    }
   ],
   "source": [
    "repeat_client.sort('nk', ascending=False).head(10)"
   ]
  },
  {
   "cell_type": "markdown",
   "metadata": {},
   "source": [
    "## Bitly Challenge Decode Dataset 1 file\n",
    "### Access the code and the Jupyter notebook at: http://nbviewer.jupyter.org/github/namman2/Data-Analytics-Projects/tree/master/Bitly%20Decode%20Log%20Dataset%20Analysis/"
   ]
  }
 ],
 "metadata": {
  "kernelspec": {
   "display_name": "Python 3",
   "language": "python",
   "name": "python3"
  },
  "language_info": {
   "codemirror_mode": {
    "name": "ipython",
    "version": 3
   },
   "file_extension": ".py",
   "mimetype": "text/x-python",
   "name": "python",
   "nbconvert_exporter": "python",
   "pygments_lexer": "ipython3",
   "version": "3.5.1"
  }
 },
 "nbformat": 4,
 "nbformat_minor": 0
}
