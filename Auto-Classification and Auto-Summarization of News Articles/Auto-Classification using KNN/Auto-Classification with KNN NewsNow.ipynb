{
 "cells": [
  {
   "cell_type": "markdown",
   "metadata": {},
   "source": [
    "### Importing the essential libraries"
   ]
  },
  {
   "cell_type": "code",
   "execution_count": 1,
   "metadata": {
    "collapsed": true
   },
   "outputs": [],
   "source": [
    "import urllib.request\n",
    "import requests\n",
    "from bs4 import BeautifulSoup\n",
    "from nltk.tokenize import sent_tokenize, word_tokenize\n",
    "from nltk.corpus import stopwords\n",
    "from collections import defaultdict\n",
    "from string import punctuation\n",
    "from heapq import nlargest"
   ]
  },
  {
   "cell_type": "markdown",
   "metadata": {},
   "source": [
    "### Defining a Web scraping function for Washington Post"
   ]
  },
  {
   "cell_type": "code",
   "execution_count": 2,
   "metadata": {
    "collapsed": true
   },
   "outputs": [],
   "source": [
    "def getWashPostText(url, token):\n",
    "    ### Default function to download content from any webpage\n",
    "    try:\n",
    "        page = urllib.urlopen(url).read().decode('utf8')\n",
    "    ### If not able to download the URL, return None\n",
    "    except:\n",
    "        return (None,None)\n",
    "    ### Instantiating a Soup object on the downloaded page\n",
    "    soup = BeautifulSoup(page)\n",
    "    ### Double-checking to make sure the page has been downloaded properly\n",
    "    if soup is None:\n",
    "        return (None,None)\n",
    "    ### Creating an empty string character\n",
    "    text = \"\"\n",
    "    ### Based on the entered token, the article content is extracted\n",
    "    if soup.find_all(token) is not None:\n",
    "        text = ''.join(map(lambda p: p.text, soup.find_all(token)))\n",
    "    ### Second soup object to extract content from the <p> tag\n",
    "        soup2 = BeautifulSoup(text)\n",
    "        if soup2.find_all('p') is not None:\n",
    "            text = ''.join(map(lambda p: p.text, soup2.find_all('p')))\n",
    "    return text, soup.title.text"
   ]
  },
  {
   "cell_type": "markdown",
   "metadata": {},
   "source": [
    "### Defining a Web scraping function for The New York Times"
   ]
  },
  {
   "cell_type": "code",
   "execution_count": 3,
   "metadata": {
    "collapsed": true
   },
   "outputs": [],
   "source": [
    "def getNYTText(url,token):\n",
    "    ### Defining an alternative way to download contents of a Webpage\n",
    "    response = requests.get(url)\n",
    "    ### Instantiating a Soup object\n",
    "    soup = BeautifulSoup(response.content)\n",
    "    ### Extracting the entire strings in the page\n",
    "    page =str(soup)\n",
    "    ### Defining the page title from the string\n",
    "    title = soup.find('title').text\n",
    "    ### Extracting the article content based on the <p> tag's class\n",
    "    mydivs = soup.findAll(\"p\", {\"class\":\"story-body-text story-content\"})\n",
    "    text = ''.join(map(lambda p: p.text, mydivs))\n",
    "    return text, title"
   ]
  },
  {
   "cell_type": "markdown",
   "metadata": {},
   "source": [
    "### Extracting articles from a single Category of a News portal"
   ]
  },
  {
   "cell_type": "code",
   "execution_count": 4,
   "metadata": {
    "collapsed": true
   },
   "outputs": [],
   "source": [
    "def scrapeSource(url, magicFrag='2016', scraperFunction = getNYTText, token='None'):\n",
    "    urlBodies = {}\n",
    "    request = urllib.request.Request(url)\n",
    "    response = urllib.request.urlopen(request)\n",
    "    soup = BeautifulSoup(response)\n",
    "    ### Extracting all the links in the page with a timestamp\n",
    "    numErrors = 0\n",
    "    for a in soup.findAll('a'):\n",
    "        try:\n",
    "            url = a['href']\n",
    "            if((url not in urlBodies) and (magicFrag is not None and magicFrag in url) \n",
    "               or magicFrag is None):\n",
    "                ### Individual scraper for each article in the Portal's section\n",
    "                body = scraperFunction(url,token)\n",
    "                if body and len(body) > 0:\n",
    "                    urlBodies[url] = body\n",
    "                print(url)\n",
    "        except:\n",
    "            numErrors += 1\n",
    "    return urlBodies"
   ]
  },
  {
   "cell_type": "markdown",
   "metadata": {},
   "source": [
    "### Feature Extraction of the Articles"
   ]
  },
  {
   "cell_type": "code",
   "execution_count": 5,
   "metadata": {
    "collapsed": true
   },
   "outputs": [],
   "source": [
    "class FreqSummarizer:\n",
    "    \n",
    "### Initializing the characteristics of the Member function\n",
    "    def __init__(self, min_cut = 0.1, max_cut = 0.9):\n",
    "        self.min_cut = min_cut\n",
    "        self.max_cut = max_cut\n",
    "        self._stopwords = set(stopwords.words('english') + list(punctuation) + [u\"'s\",'\"'])\n",
    "    \n",
    "### Function for the Dictionary of Words:Frequencies as the key-value pair\n",
    "    def _compute_freq(self, word_sent,customStopWords=None):\n",
    "        freq = defaultdict(int)\n",
    "\n",
    "### If a list of CustomStopwords are available:\n",
    "        if customStopWords is None:\n",
    "            stopwords = set(self._stopwords)\n",
    "        else:\n",
    "            stopwords = set(customStopWords).union(self._stopwords)\n",
    "\n",
    "###     Iterating through the words in sentences for incrementing the Frequency count\n",
    "        for sentence in word_sent:\n",
    "            for word in sentence:\n",
    "                if word not in self._stopwords:\n",
    "                    freq[word] += 1\n",
    "\n",
    "###     Normalizing the Frequency and Pruning the results based on Caps\n",
    "        max_freq = float(max(freq.values()))\n",
    "        for word in list(freq.keys()):\n",
    "            freq[word] = freq[word]/max_freq\n",
    "            if freq[word] >= self.max_cut or freq[word] <= self.min_cut:\n",
    "                del freq[word]\n",
    "        return freq\n",
    "    \n",
    "### Setting up a Function for Feature Extraction\n",
    "    def extractFeatures(self, article, n, customStopWords = None):\n",
    "        ### The text of the article is extracted from the tuple\n",
    "        text = article[0]\n",
    "        ### The title of the article is extracted from the title of the article\n",
    "        title = article[1]\n",
    "        ### Tokenizing into Sentences and Words\n",
    "        sentences = sent_tokenize(text)\n",
    "        word_sent = [word_tokenize(s.lower()) for s in sentences]\n",
    "        ### Calling the member function to compute the frequencies\n",
    "        self._freq = self._compute_freq(word_sent, customStopWords)\n",
    "        ### Defining a statement to return ALL features if a Negative number is inputted\n",
    "        if n < 0:\n",
    "            return nlargest(len(self._freq_keys()), self._freq, key = self._freq.get)\n",
    "        ### Defining a statement to return only the 'n' largest features\n",
    "        else:\n",
    "            return nlargest(n, self._freq, key = self._freq.get)\n",
    "        \n",
    "### Setting up a Function to compute Raw frequencies of the words (Just a Word Count)\n",
    "    def rawFreq(self, article):\n",
    "        ### The text of the article is extracted from the tuple\n",
    "        text = article[0]\n",
    "        ### The title of the article is extracted from the title of the article\n",
    "        title = article[1]\n",
    "        ### Tokenizing into Sentences and Words\n",
    "        sentences = sent_tokenize(text)\n",
    "        word_sent = [word_tokenize(s.lower()) for s in sentences]\n",
    "        freq = defaultdict(int)\n",
    "        ### Defining the word counter\n",
    "        for s in word_sent:\n",
    "            if word not in self._stopwords:\n",
    "                freq[word] += 1\n",
    "        return freq\n",
    "    \n",
    "### Function for assigning a score to a sentence based on the Frequency of words\n",
    "    def summarizer(self, article, n):\n",
    "        ### The text of the article is extracted from the tuple\n",
    "        text = article[0]\n",
    "        ### The title of the article is extracted from the title of the article\n",
    "        title = article[1]\n",
    "###     Splitting text into list of sentences\n",
    "        sents = sent_tokenize(text)\n",
    "###     Creating a list of words from the sentences in the article\n",
    "        word_sent = [word_tokenize(s.lower()) for s in sents]\n",
    "        self._freq = self._compute_freq(word_sent)\n",
    "        ranking = defaultdict(int)\n",
    "\n",
    "###     Creating a tuple of indices and sentences and incrementing the Rankings dictionary\n",
    "        for i, sent in enumerate(word_sent):\n",
    "            for word in sent:\n",
    "                if word in self._freq:\n",
    "                    ranking[i] += self._freq[word]\n",
    "\n",
    "###     Sorting the sentences based on their frequencies\n",
    "        sents_idx = nlargest(n, ranking, key = ranking.get)\n",
    "        \n",
    "        return [sents[j] for j in sents_idx]"
   ]
  },
  {
   "cell_type": "markdown",
   "metadata": {},
   "source": [
    "### Setting up the Training Dataset"
   ]
  },
  {
   "cell_type": "code",
   "execution_count": 6,
   "metadata": {
    "collapsed": true
   },
   "outputs": [],
   "source": [
    "urlWashingtonPostNonTech = \"https://www.washingtonpost.com/sports\"\n",
    "urlNewYorkTimesNonTech = \"http://www.nytimes.com/pages/sports/index.html\"\n",
    "urlWashingtonPostTech = \"https://www.washingtonpost.com/business/technology\"\n",
    "urlNewYorkTimesTech = \"http://www.nytimes.com/pages/technology/index.html\""
   ]
  },
  {
   "cell_type": "markdown",
   "metadata": {},
   "source": [
    "#### Downloading all the content from The Washington Post"
   ]
  },
  {
   "cell_type": "code",
   "execution_count": 7,
   "metadata": {
    "collapsed": false
   },
   "outputs": [
    {
     "name": "stdout",
     "output_type": "stream",
     "text": [
      "https://www.washingtonpost.com/news/food/wp/2016/04/22/londons-first-nude-restaurant-has-a-waiting-list-11000-names-long/\n",
      "https://www.washingtonpost.com/news/wonk/wp/2016/04/22/on-this-issue-donald-trump-knows-a-lot-more-than-other-republicans-sad/\n",
      "https://www.washingtonpost.com/local/she-was-found-pushing-her-dead-son-on-a-swing-now-she-lives-with-what-she-lost/2016/04/20/581732cc-f2c1-11e5-85a6-2132cf446d0a_story.html\n",
      "https://www.washingtonpost.com/news/the-fix/wp/2016/04/22/president-obama-just-met-the-most-powerful-2-year-old-in-the-world-prince-george/\n",
      "https://www.washingtonpost.com/sports/capitals/suddenly-the-capitals-are-forced-to-confront-their-ghosts-of-playoffs-past-again/2016/04/22/80f12a06-08c7-11e6-a12f-ea5aed7958dc_story.html\n",
      "https://www.washingtonpost.com/news/morning-mix/wp/2016/04/22/jesus-came-along-with-the-dark-angels-mother-charged-with-suffocating-her-daughter-to-death/\n",
      "https://www.washingtonpost.com/news/early-lead/wp/2016/04/21/conor-mcgregor-declares-i-am-not-retired-two-days-after-saying-hes-retiring/\n",
      "https://www.washingtonpost.com/news/the-switch/wp/2016/04/22/att-is-reaching-out-to-low-income-americans-with-10-internet-service/\n",
      "https://www.washingtonpost.com/business/economy/at-schools-with-sub-par-internet-kids-face-a-poor-connection-with-modern-life/2016/04/22/798c9882-07d1-11e6-bdcb-0133da18418d_story.html\n",
      "https://www.washingtonpost.com/news/the-switch/wp/2016/04/22/schools-are-helping-police-spy-on-kids-social-media-activity/\n",
      "https://www.washingtonpost.com/news/innovations/wp/2016/04/22/this-ceo-banned-his-first-employees-from-living-more-than-15-minutes-from-work/\n",
      "https://www.washingtonpost.com/news/the-switch/wp/2016/04/22/could-skull-echos-and-brainprints-replace-the-password/\n",
      "https://www.washingtonpost.com/video/business/technology/why-its-so-hard-to-find-prince-songs-online/2016/04/22/b7f54af8-08a1-11e6-bfed-ef65dff5970d_video.html\n",
      "https://www.washingtonpost.com/business/msqrd/2016/04/21/c1563836-0672-11e6-bdcb-0133da18418d_story.html\n",
      "https://www.washingtonpost.com/business/little-alchemy/2016/04/21/cd4a9da8-0672-11e6-bdcb-0133da18418d_story.html\n",
      "https://www.washingtonpost.com/news/the-switch/wp/2016/04/21/google-parent-alphabet-sees-a-worrisome-slowdown-in-online-advertising/\n",
      "https://www.washingtonpost.com/news/the-switch/wp/2016/04/21/people-suing-ashley-madison-for-last-years-hack-cant-be-anonymous-judge-rules/\n",
      "https://www.washingtonpost.com/video/business/technology/this-car-is-actually-a-bike-that-hopes-to-shield-you-from-rain/2016/04/21/0248a54c-07e8-11e6-bfed-ef65dff5970d_video.html\n",
      "https://www.washingtonpost.com/news/the-switch/wp/2016/04/21/facebook-is-looking-into-adding-a-tip-jar-on-posts/\n",
      "https://www.washingtonpost.com/news/the-switch/wp/2016/04/20/microsoft-is-killing-off-the-xbox-360/\n",
      "https://www.washingtonpost.com/news/innovations/wp/2016/04/20/how-open-science-can-help-solve-zika-and-prepare-us-for-the-next-pandemic/\n",
      "https://www.washingtonpost.com/news/the-switch/wp/2016/04/20/the-exact-reasons-why-europe-is-accusing-google-of-acting-like-a-monopoly/\n",
      "https://www.washingtonpost.com/news/the-switch/wp/2016/04/20/siri-how-much-will-this-lawsuit-cost-apple/\n",
      "https://www.washingtonpost.com/news/the-switch/wp/2016/04/19/box-ceo-why-the-latest-attempt-by-congress-on-cybersecurity-is-already-outdated/\n",
      "https://www.washingtonpost.com/news/the-switch/wp/2016/04/19/why-google-is-warning-that-google-com-is-partially-dangerous/\n",
      "https://www.washingtonpost.com/business/bill-campbell-management-coach-to-steve-jobs-and-other-silicon-valley-leaders-dies-at-75/2016/04/18/8f339532-05d8-11e6-b283-e79d81c63c1b_story.html\n",
      "https://www.washingtonpost.com/news/the-switch/wp/2016/04/18/why-netflixs-stock-is-plunging-right-now/\n",
      "https://www.washingtonpost.com/news/the-switch/wp/2016/04/18/a-lawsuit-claims-kanye-west-tricked-people-into-signing-up-for-tidal/\n",
      "https://www.washingtonpost.com/news/wonk/wp/2016/04/22/the-great-ethnic-food-lie/?tid=pm_business_pop_b\n",
      "https://www.washingtonpost.com/news/energy-environment/wp/2016/04/20/and-then-we-wept-scientists-say-93-percent-of-the-great-barrier-reef-now-bleached/?tid=pm_business_pop_b\n",
      "https://www.washingtonpost.com/business/get-there/what-should-you-do-with-that-401k-when-you-retire/2016/04/22/86732f00-05a8-11e6-a12f-ea5aed7958dc_story.html?tid=pm_business_pop_b\n",
      "https://www.washingtonpost.com/news/wonk/wp/2016/04/21/the-audacious-career-of-harriet-tubman-the-new-face-of-the-20-bill/?tid=pm_business_pop_b\n",
      "https://www.washingtonpost.com/news/wonk/wp/2016/04/15/researchers-have-found-an-alarming-new-side-effect-from-eating-fast-food/?tid=pm_business_pop_b\n",
      "https://www.washingtonpost.com/news/dc-sports-bog/wp/2016/04/22/nationals-and-twins-honor-prince-before-fridays-game/\n",
      "https://www.washingtonpost.com/news/early-lead/wp/2016/04/22/michael-strahan-and-kelly-ripa-reportedly-dunzo/\n",
      "https://www.washingtonpost.com/news/early-lead/wp/2016/04/22/nba-says-james-hardens-game-winner-shouldnt-have-counted/\n",
      "https://www.washingtonpost.com/news/early-lead/wp/2016/04/22/curt-schilling-says-he-didnt-need-espns-money/\n",
      "https://www.washingtonpost.com/news/early-lead/wp/2016/04/22/msnbc-silences-blackhawks-announcer-whos-fed-up-with-late-puck-drops/\n",
      "https://www.washingtonpost.com/news/early-lead/wp/2016/04/22/watch-yasiel-puig-fire-a-rocket-from-right-field-to-nail-a-runner-at-third-base/\n",
      "https://www.washingtonpost.com/sports/how-the-colts-and-packers-always-dominate-the-draft/2016/04/22/2e48ab52-089b-11e6-bdcb-0133da18418d_story.html\n",
      "https://www.washingtonpost.com/sports/capitals-control-play-against-flyers-but-fail-to-close-out-series-again-in-game-5/2016/04/22/84e5cebe-08c7-11e6-a12f-ea5aed7958dc_story.html\n",
      "https://www.washingtonpost.com/sports/capitals/suddenly-the-capitals-are-forced-to-confront-their-ghosts-of-playoffs-past-again/2016/04/22/80f12a06-08c7-11e6-a12f-ea5aed7958dc_story.html\n",
      "https://www.washingtonpost.com/news/dc-sports-bog/wp/2016/04/22/best-and-worst-moments-from-the-capitals-game-5-loss-to-the-flyers/\n",
      "https://www.washingtonpost.com/news/capitals-insider/wp/2016/04/23/why-did-t-j-oshie-go-after-brayden-schenn-he-was-first-on-the-ice-of-course/\n",
      "https://www.washingtonpost.com/sports/michal-neuvirth-steals-game-5-for-flyers-as-tide-starts-to-turn-against-capitals/2016/04/22/d6dec4f2-08c5-11e6-a12f-ea5aed7958dc_story.html\n",
      "https://www.washingtonpost.com/news/football-insider/wp/2016/04/22/redskins-agree-to-terms-with-cornerback-josh-norman/\n",
      "https://www.washingtonpost.com/sports/jose-lobaton-makes-the-most-of-his-turn-to-start-as-nationals-rout-twins/2016/04/22/204f273e-08c7-11e6-a12f-ea5aed7958dc_story.html\n",
      "https://www.washingtonpost.com/news/nationals-journal/wp/2016/04/22/anthony-rendon-is-the-nationals-pitcher-whisperer/\n",
      "https://www.washingtonpost.com/news/nationals-journal/wp/2016/04/22/despite-slow-starts-nationals-have-faith-in-michael-a-taylor-danny-espinosa/\n",
      "https://www.washingtonpost.com/news/sports/wp/2016/04/22/scott-brooks-hiring-shows-wizards-are-ready-to-spend-big-this-summer/\n",
      "https://www.washingtonpost.com/sports/wizards/wizards-hiring-of-scott-brooks-has-upside-even-if-they-dont-land-kevin-durant/2016/04/21/4a6b5076-082a-11e6-bdcb-0133da18418d_story.html\n",
      "https://www.washingtonpost.com/sports/redskins/jaylon-smiths-swift-sad-fall-from-top-nfl-prospect-to-the-outside-looking-in/2016/04/22/ae76d824-08c5-11e6-bdcb-0133da18418d_story.html\n",
      "https://www.washingtonpost.com/news/dc-sports-bog/wp/2016/04/22/my-nearly-impossible-hunt-for-miller-lite-at-nats-park/\n",
      "https://www.washingtonpost.com/sports/boxing/meet-gennady-golovkin-the-next-great-boxer-that-nobody-wants-to-fight/2016/04/21/5c5242be-0671-11e6-b283-e79d81c63c1b_story.html\n",
      "https://www.washingtonpost.com/news/early-lead/wp/2016/04/23/atlantas-dennis-schroder-gets-angry-on-twitter-after-flagrant-foul-call/\n",
      "https://www.washingtonpost.com/sports/tv-and-radio-listings-april-23/2016/04/23/ee2be4ca-0909-11e6-a12f-ea5aed7958dc_story.html\n",
      "https://www.washingtonpost.com/news/early-lead/wp/2016/04/22/white-sox-complete-historic-dazzling-triple-play-on-blue-jays/\n",
      "https://www.washingtonpost.com/news/early-lead/wp/2016/04/22/dana-white-nate-diazs-ufc-200-fight-will-not-be-against-conor-mcgregor/\n",
      "https://www.washingtonpost.com/sports/highschools/suffocating-defense-pushes-no-2-bullis-over-no-5-georgetown-prep/2016/04/22/a143fd00-08e6-11e6-a12f-ea5aed7958dc_gallery.html\n",
      "https://www.washingtonpost.com/news/early-lead/wp/2016/04/22/jones-vs-saint-preux-fight-card-tv-info-results-highlights/\n",
      "https://www.washingtonpost.com/sports/highschools/bullis-maintains-control-in-iac-with-decisive-victory-over-georgetown-prep/2016/04/22/5adbc784-07de-11e6-a12f-ea5aed7958dc_story.html\n",
      "https://www.washingtonpost.com/sports/colleges/the-remote-controlled-tackling-dummy-that-could-save-football/2016/04/22/34c50a60-08a1-11e6-b283-e79d81c63c1b_story.html\n",
      "https://www.washingtonpost.com/news/capitals-insider/wp/2016/04/22/capitals-vs-flyers-game-5-discussion-thread/\n",
      "https://www.washingtonpost.com/news/sports/wp/2016/04/22/warriors-sat-steph-curry-and-lost-to-the-rockets-and-they-should-sit-him-again/\n",
      "https://www.washingtonpost.com/news/early-lead/wp/2016/04/22/dallas-grand-jury-seems-likely-to-charge-johnny-manziel-with-domestic-violence/\n",
      "https://www.washingtonpost.com/sports/legendary-lousy-how-your-team-has-fared-in-the-nfl-draft/2016/04/21/c4843388-07f2-11e6-b283-e79d81c63c1b_graphic.html?tid=pm_sports_pop_b\n",
      "https://www.washingtonpost.com/news/football-insider/wp/2016/04/22/redskins-agree-to-terms-with-cornerback-josh-norman/?tid=pm_sports_pop_b\n",
      "https://www.washingtonpost.com/news/early-lead/wp/2016/04/21/michael-jordan-cant-bring-himself-to-tell-tiger-woods-the-truth-about-his-future/?tid=pm_sports_pop_b\n",
      "https://www.washingtonpost.com/sports/how-the-colts-and-packers-always-dominate-the-draft/2016/04/22/2e48ab52-089b-11e6-bdcb-0133da18418d_story.html?tid=pm_sports_pop_b\n",
      "https://www.washingtonpost.com/news/early-lead/wp/2016/04/22/michael-strahan-and-kelly-ripa-reportedly-dunzo/?tid=pm_sports_pop_b\n",
      "https://www.washingtonpost.com/news/dc-sports-bog/wp/2016/04/22/bryce-harper-wants-to-make-baseball-fabulous-again-with-sparkly-new-hat/\n",
      "https://www.washingtonpost.com/news/dc-sports-bog/wp/2016/04/22/kirk-cousinss-job-at-long-last-is-also-his-credit/\n",
      "https://www.washingtonpost.com/news/fancy-stats/wp/2016/04/22/records-are-deceiving-for-these-three-starting-pitchers/\n",
      "https://www.washingtonpost.com/news/fancy-stats/wp/2016/04/22/this-pitch-turned-jake-arrieta-into-the-one-of-the-best-pitchers-in-baseball/\n",
      "https://www.washingtonpost.com/news/fancy-stats/wp/2016/04/21/the-yankees-bullpen-is-already-crushing-teams-and-its-about-to-get-better/\n",
      "https://www.washingtonpost.com/news/fancy-stats/wp/2016/04/21/tom-thibodeau-can-make-the-timberwolves-scary-by-applying-his-bulls-strategies/\n",
      "https://www.washingtonpost.com/news/football-insider/wp/2016/04/22/redskins-will-get-the-first-crack-at-free-agent-cornerback-josh-norman/\n",
      "https://www.washingtonpost.com/news/football-insider/wp/2016/04/22/nfl-draft-running-backs-overview-ezekiel-elliott-prides-himself-on-versatility/\n",
      "https://www.washingtonpost.com/news/football-insider/wp/2016/04/22/kirk-cousins-taking-on-larger-leadership-role-during-workouts/\n",
      "https://www.washingtonpost.com/news/nationals-journal/wp/2016/04/22/jayson-werth-returns-to-lineup-friday-against-twins/\n",
      "https://www.washingtonpost.com/news/nationals-journal/wp/2016/04/22/whats-the-secret-to-gio-gonzalezs-early-success/\n",
      "https://www.washingtonpost.com/news/capitals-insider/wp/2016/04/22/brayden-schenn-calls-cross-check-on-evgeny-kuznetsov-a-pretty-dumb-play-by-me/\n",
      "https://www.washingtonpost.com/news/capitals-insider/wp/2016/04/22/taylor-chorney-stays-in-the-lineup-with-brooks-orpik-still-out/\n",
      "https://www.washingtonpost.com/news/wizards-insider/wp/2016/04/22/jared-dudley-can-see-himself-back-with-the-wizards-but-wants-a-three-year-deal/\n",
      "https://www.washingtonpost.com/news/wizards-insider/wp/2016/04/21/scott-brooks-or-bust-wizards-have-one-target-for-coaching-job/\n",
      "https://www.washingtonpost.com/news/wizards-insider/wp/2016/04/20/ernie-grunfeld-visits-scott-brooks-in-california-to-discuss-wizards-coaching-vacancy/\n",
      "https://www.washingtonpost.com/news/wizards-insider/wp/2016/04/19/ramon-sessions-enters-free-agency-hoping-for-a-chance-as-starting-point-guard/\n",
      "https://www.washingtonpost.com/news/soccer-insider/wp/2016/04/22/for-d-c-united-its-the-past-present-and-future/\n",
      "https://www.washingtonpost.com/news/soccer-insider/wp/2016/04/21/what-soccer-matches-are-you-going-to-watch-this-weekend/\n",
      "https://www.washingtonpost.com/news/soccer-insider/wp/2016/04/21/its-now-official-mls-suspends-d-c-united-coach-ben-olsen-for-1-game/\n",
      "https://www.washingtonpost.com/news/soccer-insider/wp/2016/04/21/u-s-mens-national-team-will-play-may-22-friendly-at-puerto-rico/\n",
      "https://www.washingtonpost.com/news/terrapins-insider/wp/2016/04/22/marylands-denzel-conyers-has-made-a-big-change-off-the-field-looks-to-start-at-safety-in-2016/\n",
      "https://www.washingtonpost.com/news/terrapins-insider/wp/2016/04/20/maryland-womens-lacrosse-rides-defense-in-dominant-win-over-virginia/\n",
      "https://www.washingtonpost.com/news/terrapins-insider/wp/2016/04/16/five-takeaways-from-marylands-red-white-spring-game/\n",
      "https://www.washingtonpost.com/news/terrapins-insider/wp/2016/04/15/marylands-versatile-will-likely-ready-for-centerpiece-role-in-new-look-defense/\n"
     ]
    },
    {
     "name": "stderr",
     "output_type": "stream",
     "text": [
      "C:\\Users\\Chiku\\Anaconda3\\lib\\site-packages\\bs4\\__init__.py:166: UserWarning: No parser was explicitly specified, so I'm using the best available HTML parser for this system (\"lxml\"). This usually isn't a problem, but if you run this code on another system, or in a different virtual environment, it may use a different parser and behave differently.\n",
      "\n",
      "To get rid of this warning, change this:\n",
      "\n",
      " BeautifulSoup([your markup])\n",
      "\n",
      "to this:\n",
      "\n",
      " BeautifulSoup([your markup], \"lxml\")\n",
      "\n",
      "  markup_type=markup_type))\n"
     ]
    }
   ],
   "source": [
    "WashingtonPostTechArticles = scrapeSource(urlWashingtonPostTech, '2016', getWashPostText, 'article')\n",
    "WashingtonPostNonTechArticles = scrapeSource(urlWashingtonPostNonTech, '2016', getWashPostText, 'article')"
   ]
  },
  {
   "cell_type": "markdown",
   "metadata": {},
   "source": [
    "#### Downloading all the content from The New York Times"
   ]
  },
  {
   "cell_type": "code",
   "execution_count": 8,
   "metadata": {
    "collapsed": false
   },
   "outputs": [
    {
     "name": "stdout",
     "output_type": "stream",
     "text": [
      "http://www.nytimes.com/adx/bin/adx_click.html?type=goto&opzn&page=www.nytimes.com/pages/technology/index.html&pos=Bar1&sn2=2630ddf6/7cfc6770&sn1=70c2df77/67d9a8a3&camp=nyt2016_bar1_digihd_BAU_mtr_msg_64RWJ&ad=bar1_digihd_BAU_mtr_v2_fonts_https_64RWJ&goto=http%3A%2F%2Fwww%2Enytimes%2Ecom%2Fsubscriptions%2FMultiproduct%2Flp3004%2Ehtml%3Fadxc%3D283467%26adxa%3D413342%26page%3Dwww.nytimes.com/pages/technology/index.html%26pos%3DBar1%26campaignId%3D64RWJ\n",
      "http://www.nytimes.com/adx/bin/adx_click.html?type=goto&opzn&page=www.nytimes.com/pages/technology/index.html&pos=Bar1&sn2=2630ddf6/7cfc6770&sn1=aa293c57/b4ec2814&camp=nyt2016_bar1_digihd_BAU_mtr_msg_64RWJ&ad=bar1_digihd_BAU_mtr_v2_fonts_https_64RWJ&goto=https%3A%2F%2Fwww%2Enytimesathome%2Ecom%2Fhd%2F205%3FMediaCode%3DWB7AA%26CMP%3D64RWL%26pos%3DBar1%26campaignId%3D64RWL\n",
      "http://www.nytimes.com/adx/bin/adx_click.html?type=goto&opzn&page=www.nytimes.com/pages/technology/index.html&pos=Bar1&sn2=2630ddf6/7cfc6770&sn1=70c2df77/67d9a8a3&camp=nyt2016_bar1_digihd_BAU_mtr_msg_64RWJ&ad=bar1_digihd_BAU_mtr_v2_fonts_https_64RWJ&goto=http%3A%2F%2Fwww%2Enytimes%2Ecom%2Fsubscriptions%2FMultiproduct%2Flp5558%2Ehtml%3Fadxc%3D283467%26adxa%3D413342%26page%3Dwww.nytimes.com/pages/technology/index.html%26pos%3DBar1%26campaignId%3D64RXF\n",
      "http://www.nytimes.com/adx/bin/adx_click.html?type=goto&opzn&page=www.nytimes.com/pages/technology/index.html&pos=Bar1&sn2=2630ddf6/7cfc6770&sn1=70c2df77/67d9a8a3&camp=nyt2016_bar1_digihd_BAU_mtr_msg_64RWJ&ad=bar1_digihd_BAU_mtr_v2_fonts_https_64RWJ&goto=http%3A%2F%2Fwww%2Enytimes%2Ecom%2Fsubscriptions%2FMultiproduct%2Flp3004%2Ehtml%3Fadxc%3D283467%26adxa%3D413342%26page%3Dwww.nytimes.com/pages/technology/index.html%26pos%3DBar1%26campaignId%3D64RXJ\n",
      "http://www.nytimes.com/2016/04/22/technology/uber-settles-cases-with-concessions-but-drivers-stay-freelancers.html?ref=technology\n",
      "http://www.nytimes.com/2016/04/22/technology/apple-no-longer-immune-to-chinas-scrutiny-of-us-tech-firms.html?ref=technology\n",
      "http://www.nytimes.com/2016/04/22/us/politics/fbi-director-suggests-bill-for-iphone-hacking-was-1-3-million.html?ref=technology\n",
      "http://www.nytimes.com/2016/04/22/technology/alphabet-google-earnings.html?ref=technology\n",
      "http://www.nytimes.com/2016/04/22/technology/microsoft-earnings.html?ref=technology\n",
      "http://www.nytimes.com/2016/04/23/business/on-encryption-battle-apple-has-advocates-in-ex-national-security-officials.html?ref=technology\n",
      "http://www.nytimes.com/2016/04/24/nyregion/brooklyn-gets-a-superhero-and-a-few-villains.html?ref=technology\n",
      "http://www.nytimes.com/2016/04/23/technology/microsoft-and-google-agree-to-drop-mutual-complaints.html?ref=technology\n",
      "http://www.nytimes.com/2016/04/23/arts/music/prince-music-technology-distribution.html?ref=technology\n",
      "http://www.nytimes.com/2016/04/23/technology/personaltech/recovering-a-lost-windows-password.html?ref=technology\n",
      "http://www.nytimes.com/2016/04/23/technology/the-no-good-week-in-techs-hopeful-trip-to-a-bright-future.html?ref=technology\n",
      "http://www.nytimes.com/2016/04/23/world/asia/china-nuclear-power-south-china-sea.html?ref=technology\n",
      "http://www.nytimes.com/2016/04/22/business/media/online-media-is-tested-when-social-platforms-come-to-town.html?ref=technology\n",
      "http://www.nytimes.com/2016/04/22/business/a-once-avid-ally-walgreens-is-struggling-to-shake-off-theranos.html?ref=technology\n",
      "http://www.nytimes.com/2016/04/24/magazine/what-chatbots-reveal-about-our-own-shortcomings.html?ref=technology\n",
      "http://www.nytimes.com/2016/04/22/technology/no-anonymity-ashley-madison-hack-case.html?ref=technology\n",
      "http://www.nytimes.com/2016/04/22/technology/a-hot-app-discovers-virality-and-its-downsides.html?ref=technology\n",
      "http://www.nytimes.com/2016/04/22/us/with-seattle-shelter-effort-amazon-shows-glimmers-of-a-good-neighbor.html?ref=technology\n",
      "http://www.nytimes.com/2016/04/21/business/dealbook/lexmark-apex-pag-asia.html?ref=technology\n",
      "http://www.nytimes.com/2016/04/21/business/dealbook/yahoos-first-quarter-adds-urgency-to-sale-option.html?ref=technology\n",
      "http://www.nytimes.com/2016/04/21/fashion/phones-businesses-landline.html?ref=technology\n",
      "http://www.nytimes.com/2016/04/21/sports/basketball/nba-players-checking-phones-at-halftime.html?ref=technology\n",
      "http://www.nytimes.com/2016/04/21/technology/google-europe-antitrust.html?ref=technology\n",
      "http://www.nytimes.com/2016/04/21/technology/personaltech/down-to-lunch-founders-pursue-less-traveled-path-to-success.html?ref=technology\n",
      "http://www.nytimes.com/2016/04/21/technology/personaltech/apps-to-build-your-understanding-of-the-environment.html?ref=technology\n",
      "http://www.nytimes.com/2016/04/22/technology/personaltech/moving-pdfs-to-a-pc-from-an-ipad.html?ref=technology\n",
      "http://www.nytimes.com/2016/04/21/technology/personaltech/watchingthe-clock-on-that-windows-10-deal.html?ref=technology\n",
      "http://www.nytimes.com/2016/04/15/technology/personaltech/stopping-os-x-apps-from-automatically-starting.html?ref=technology\n",
      "http://www.nytimes.com/2016/04/14/technology/personaltech/finding-online-support-for-your-android-device.html?ref=technology\n",
      "http://www.nytimes.com/2016/04/14/technology/personaltech/now-you-can-write-the-great-american-novel-on-the-subway.html?ref=technology\n",
      "http://www.nytimes.com/2016/04/07/technology/personaltech/what-the-apple-watch-does-one-year-later.html?ref=technology\n",
      "http://www.nytimes.com/2016/03/31/technology/personaltech/oculus-rift-virtual-reality-review.html?ref=technology\n",
      "http://www.nytimes.com/2016/03/24/technology/personaltech/who-will-like-the-new-smaller-iphone-se.html?ref=technology\n",
      "http://www.nytimes.com/2016/02/25/technology/personaltech/tips-and-myths-about-extending-smartphone-battery-life.html?ref=technology\n",
      "http://www.nytimes.com/2016/04/21/technology/personaltech/choosing-to-skipthe-upgrade-and-care-for-the-gadget-youve-got.html?src=me\n",
      "http://www.nytimes.com/2016/04/22/technology/uber-settles-cases-with-concessions-but-drivers-stay-freelancers.html?src=me\n",
      "http://www.nytimes.com/interactive/2016/02/28/technology/silicon-valley-photo-essay.html?src=me\n",
      "http://www.nytimes.com/2016/04/22/technology/personaltech/moving-pdfs-to-a-pc-from-an-ipad.html?src=me\n",
      "http://www.nytimes.com/2016/04/15/technology/why-do-older-people-love-facebook-lets-ask-my-dad.html?src=me\n",
      "http://www.nytimes.com/2016/04/23/technology/personaltech/recovering-a-lost-windows-password.html?src=me\n",
      "http://www.nytimes.com/2016/04/22/technology/no-anonymity-ashley-madison-hack-case.html?src=me\n",
      "http://www.nytimes.com/2016/04/22/technology/apple-no-longer-immune-to-chinas-scrutiny-of-us-tech-firms.html?src=me\n",
      "http://www.nytimes.com/2016/04/21/technology/personaltech/watchingthe-clock-on-that-windows-10-deal.html?src=me\n",
      "http://www.nytimes.com/2016/04/20/technology/personaltech/keeping-your-android-files-in-sync-with-a-computer.html?src=me\n",
      "http://www.nytimes.com/2016/04/22/technology/apple-no-longer-immune-to-chinas-scrutiny-of-us-tech-firms.html?src=mv\n",
      "http://www.nytimes.com/2016/04/22/technology/uber-settles-cases-with-concessions-but-drivers-stay-freelancers.html?src=mv\n",
      "http://www.nytimes.com/2016/04/21/technology/personaltech/choosing-to-skipthe-upgrade-and-care-for-the-gadget-youve-got.html?src=mv\n",
      "http://www.nytimes.com/interactive/2016/02/28/technology/silicon-valley-photo-essay.html?src=mv\n",
      "http://www.nytimes.com/2016/04/22/technology/no-anonymity-ashley-madison-hack-case.html?src=mv\n",
      "http://www.nytimes.com/2016/04/22/technology/alphabet-google-earnings.html?src=mv\n",
      "http://www.nytimes.com/2016/04/21/technology/personaltech/down-to-lunch-founders-pursue-less-traveled-path-to-success.html?src=mv\n",
      "http://www.nytimes.com/2016/04/21/technology/personaltech/apps-to-build-your-understanding-of-the-environment.html?src=mv\n",
      "http://www.nytimes.com/2016/04/23/technology/microsoft-and-google-agree-to-drop-mutual-complaints.html?src=mv\n",
      "http://www.nytimes.com/2016/04/22/technology/microsoft-earnings.html?src=mv\n",
      "http://www.nytimes.com/adx/bin/adx_click.html?type=goto&opzn&page=www.nytimes.com/pages/sports/index.html&pos=Bar1&sn2=b56e3e22/8f3cca8a&sn1=70c2df77/67d9a8a3&camp=nyt2016_bar1_digihd_BAU_mtr_msg_64RWJ&ad=bar1_digihd_BAU_mtr_v2_fonts_https_64RWJ&goto=http%3A%2F%2Fwww%2Enytimes%2Ecom%2Fsubscriptions%2FMultiproduct%2Flp3004%2Ehtml%3Fadxc%3D283467%26adxa%3D413342%26page%3Dwww.nytimes.com/pages/sports/index.html%26pos%3DBar1%26campaignId%3D64RWJ\n",
      "http://www.nytimes.com/adx/bin/adx_click.html?type=goto&opzn&page=www.nytimes.com/pages/sports/index.html&pos=Bar1&sn2=b56e3e22/8f3cca8a&sn1=aa293c57/b4ec2814&camp=nyt2016_bar1_digihd_BAU_mtr_msg_64RWJ&ad=bar1_digihd_BAU_mtr_v2_fonts_https_64RWJ&goto=https%3A%2F%2Fwww%2Enytimesathome%2Ecom%2Fhd%2F205%3FMediaCode%3DWB7AA%26CMP%3D64RWL%26pos%3DBar1%26campaignId%3D64RWL\n",
      "http://www.nytimes.com/adx/bin/adx_click.html?type=goto&opzn&page=www.nytimes.com/pages/sports/index.html&pos=Bar1&sn2=b56e3e22/8f3cca8a&sn1=70c2df77/67d9a8a3&camp=nyt2016_bar1_digihd_BAU_mtr_msg_64RWJ&ad=bar1_digihd_BAU_mtr_v2_fonts_https_64RWJ&goto=http%3A%2F%2Fwww%2Enytimes%2Ecom%2Fsubscriptions%2FMultiproduct%2Flp5558%2Ehtml%3Fadxc%3D283467%26adxa%3D413342%26page%3Dwww.nytimes.com/pages/sports/index.html%26pos%3DBar1%26campaignId%3D64RXF\n",
      "http://www.nytimes.com/adx/bin/adx_click.html?type=goto&opzn&page=www.nytimes.com/pages/sports/index.html&pos=Bar1&sn2=b56e3e22/8f3cca8a&sn1=70c2df77/67d9a8a3&camp=nyt2016_bar1_digihd_BAU_mtr_msg_64RWJ&ad=bar1_digihd_BAU_mtr_v2_fonts_https_64RWJ&goto=http%3A%2F%2Fwww%2Enytimes%2Ecom%2Fsubscriptions%2FMultiproduct%2Flp3004%2Ehtml%3Fadxc%3D283467%26adxa%3D413342%26page%3Dwww.nytimes.com/pages/sports/index.html%26pos%3DBar1%26campaignId%3D64RXJ\n",
      "http://www.nytimes.com/2016/04/23/sports/olympics/switzerland-global-sports-capital-seeks-new-recruits.html?ref=sports\n",
      "http://www.nytimes.com/2016/04/23/us/dennis-hastert-wrestling.html?ref=sports\n",
      "http://www.nytimes.com/2016/04/23/sports/soccer/referees-draw-fire-but-use-of-video-could-back-them-up.html?ref=sports\n",
      "http://www.nytimes.com/2016/04/23/sports/hockey/after-overtime-penalty-save-islanders-prevail-in-a-goaltending-battle.html?ref=sports\n",
      "http://www.nytimes.com/2016/04/23/sports/hockey/penguins-understudy-matt-murray-stonewalls-rangers.html?ref=sports\n",
      "http://www.nytimes.com/2016/04/23/sports/hockey/flyers-stay-alive-behind-michal-neuvirths-shutout.html?ref=sports\n",
      "http://www.nytimes.com/2016/04/23/sports/baseball/having-trouble-driving-in-runs-yankees-try-stealing-one.html?ref=sports\n",
      "http://www.nytimes.com/2016/04/23/sports/baseball/matt-harveys-performance-against-feeble-braves-offers-no-answers.html?ref=sports\n",
      "http://www.nytimes.com/2016/04/23/sports/baseball/blue-jays-chris-colabello-suspended-80-games.html?ref=sports\n",
      "http://www.nytimes.com/2016/04/23/sports/football/ryan-fitzpatrick-and-muhammad-wilkerson-have-no-contracts-but-jets-have-patience.html?ref=sports\n",
      "http://www.nytimes.com/2016/04/23/sports/football/a-difficult-shift-from-college-spread-to-pros.html?ref=sports\n",
      "http://www.nytimes.com/2016/04/23/sports/football/redskins-add-josh-norman-to-bolster-defense.html?ref=sports\n",
      "http://www.nytimes.com/2016/04/23/sports/basketball/nba-roundup.html?ref=sports\n",
      "http://www.nytimes.com/2016/04/22/sports/basketball/jeremy-lin-charlotte-hornets.html?ref=sports\n",
      "http://www.nytimes.com/2016/04/23/sports/ncaabasketball/grand-canyon-makes-the-leap-to-division-i-with-star-clout.html?ref=sports\n",
      "http://www.nytimes.com/2016/04/23/sports/tennis/integrity-unit-says-flagged-matches-rise.html?ref=sports\n",
      "http://www.nytimes.com/aponline/2016/04/22/sports/tennis/ap-ten-barcelona-open.html?ref=sports\n",
      "http://www.nytimes.com/aponline/2016/04/22/sports/tennis/ap-ten-porsche-gp.html?ref=sports\n",
      "http://www.nytimes.com/aponline/2016/04/22/sports/golf/ap-glf-texas-open.html?ref=sports\n",
      "http://www.nytimes.com/aponline/2016/04/22/sports/golf/ap-glf-lpga-tour.html?ref=sports\n",
      "http://www.nytimes.com/aponline/2016/04/22/sports/golf/ap-glf-inbee-park-sidelined.html?ref=sports\n",
      "http://www.nytimes.com/2016/04/23/sports/police-end-courtesy-calls.html?ref=sports\n",
      "http://www.nytimes.com/2016/04/23/sports/burnley-on-course-to-rise.html?ref=sports\n",
      "http://www.nytimes.com/reuters/2016/04/22/sports/22reuters-doping-kenya-lawmaking.html?ref=sports\n",
      "http://www.nytimes.com/2016/04/22/sports/soccer/usmnt-uswnt-soccer-equal-pay.html?ref=sports\n",
      "http://www.nytimes.com/2016/04/23/sports/rugby/saracens-wasps-european-rugby-cup.html?ref=sports\n",
      "http://www.nytimes.com/2016/04/22/sports/contrition-continues-to-elude-curt-schilling.html?ref=sports\n",
      "http://www.nytimes.com/2016/04/22/sports/basketball/onaje-xo-woodbine-back-to-basketball.html?ref=sports\n",
      "http://www.nytimes.com/2016/04/21/sports/ncaabasketball/pearl-dwayne-washington-inspired-wonder.html?ref=sports\n",
      "http://www.nytimes.com/2016/04/21/sports/basketball/pearl-washington-52-dies-starred-at-syracuse.html?ref=sports\n",
      "http://www.nytimes.com/2016/04/22/arts/television/chyna-wrestler-dead.html?ref=sports\n",
      "http://www.nytimes.com/2016/04/21/sports/soccer/visiting-92-british-soccer-stadiums.html?ref=sports\n",
      "http://www.nytimes.com/2016/04/21/sports/basketball/nba-players-checking-phones-at-halftime.html?ref=sports\n",
      "http://www.nytimes.com/2016/04/19/sports/cycling/with-a-discreet-motor-doping-the-bike-instead-of-the-cyclist.html?ref=sports\n",
      "http://www.nytimes.com/2016/04/20/sports/football/where-the-nfl-concussions-settlement-stands-now.html?ref=sports\n",
      "http://www.nytimes.com/2016/04/19/sports/football/nfl-concussion-lawsuit.html\n",
      "http://www.nytimes.com/2016/04/19/sports/rugby/los-jaguares-super-rugby-travel.html?ref=sports\n",
      "http://www.nytimes.com/2016/04/18/sports/horse-racing/american-pharoah-triple-crown-baffert-mckathan.html?ref=sports\n",
      "http://www.nytimes.com/interactive/2016/04/16/upshot/stephen-curry-golden-state-warriors-3-pointers.html?ref=sports\n",
      "http://www.nytimes.com/reuters/2016/04/23/sports/hockey/23reuters-nhl-playoffs-kings.html?ref=sports\n",
      "http://www.nytimes.com/reuters/2016/04/23/sports/hockey/23reuters-nhl-playoffs-stars.html?ref=sports\n",
      "http://www.nytimes.com/aponline/2016/04/23/sports/hockey/ap-hkn-sharks-kings.html?ref=sports\n",
      "http://www.nytimes.com/aponline/2016/04/23/sports/baseball/ap-bbn-cardinals-padres.html?ref=sports\n",
      "http://www.nytimes.com/aponline/2016/04/23/sports/baseball/ap-bbn-marlins-giants.html?ref=sports\n",
      "http://www.nytimes.com/2016/04/22/sports/contrition-continues-to-elude-curt-schilling.html?src=me\n",
      "http://www.nytimes.com/aponline/2016/04/22/sports/baseball/ap-bbo-leading-off.html?src=me\n",
      "http://www.nytimes.com/2016/04/22/sports/soccer/usmnt-uswnt-soccer-equal-pay.html?src=me\n",
      "http://www.nytimes.com/2016/04/22/sports/hockey/lundqvist-is-pulled-early-and-rangers-are-on-brink-of-being-ousted.html?src=me\n",
      "http://www.nytimes.com/2016/04/22/sports/basketball/onaje-xo-woodbine-back-to-basketball.html?src=me\n",
      "http://www.nytimes.com/2016/04/22/sports/basketball/jeremy-lin-charlotte-hornets.html?src=me\n",
      "http://www.nytimes.com/2016/04/23/sports/olympics/switzerland-global-sports-capital-seeks-new-recruits.html?src=me\n",
      "http://www.nytimes.com/2016/04/22/sports/conor-mcgregor-ufc-not-retiring.html?src=me\n",
      "http://www.nytimes.com/2016/04/22/sports/basketball/warriors-missing-stephencurry-fall-to-rockets.html?src=me\n",
      "http://www.nytimes.com/2016/04/22/sports/baseball/no-relief-for-yankees-as-back-to-back-homers-sting-chasenshreve.html?src=me\n",
      "http://www.nytimes.com/2016/04/21/sports/baseball/curt-schilling-is-fired-by-espn.html?src=mv\n",
      "http://www.nytimes.com/2016/04/22/arts/television/chyna-wrestler-dead.html?src=mv\n",
      "http://www.nytimes.com/aponline/2016/04/22/sports/baseball/ap-bbo-leading-off.html?src=mv\n",
      "http://www.nytimes.com/2016/04/22/sports/contrition-continues-to-elude-curt-schilling.html?src=mv\n",
      "http://www.nytimes.com/2016/04/22/sports/basketball/jeremy-lin-charlotte-hornets.html?src=mv\n",
      "http://www.nytimes.com/2016/04/22/sports/football/with-robert-griffin-on-roster-browns-defend-trading-no-2-pick.html?src=mv\n",
      "http://www.nytimes.com/2016/04/22/sports/basketball/warriors-missing-stephencurry-fall-to-rockets.html?src=mv\n",
      "http://www.nytimes.com/2016/04/21/sports/basketball/nba-players-checking-phones-at-halftime.html?src=mv\n",
      "http://www.nytimes.com/2016/04/22/sports/soccer/usmnt-uswnt-soccer-equal-pay.html?src=mv\n",
      "http://www.nytimes.com/2016/04/22/sports/basketball/onaje-xo-woodbine-back-to-basketball.html?src=mv\n"
     ]
    },
    {
     "name": "stderr",
     "output_type": "stream",
     "text": [
      "C:\\Users\\Chiku\\Anaconda3\\lib\\site-packages\\bs4\\__init__.py:166: UserWarning: No parser was explicitly specified, so I'm using the best available HTML parser for this system (\"lxml\"). This usually isn't a problem, but if you run this code on another system, or in a different virtual environment, it may use a different parser and behave differently.\n",
      "\n",
      "To get rid of this warning, change this:\n",
      "\n",
      " BeautifulSoup([your markup])\n",
      "\n",
      "to this:\n",
      "\n",
      " BeautifulSoup([your markup], \"lxml\")\n",
      "\n",
      "  markup_type=markup_type))\n"
     ]
    }
   ],
   "source": [
    "newYorkTimesTechArticles = scrapeSource(urlNewYorkTimesTech, '2016', getNYTText, None)\n",
    "newYorkTimesNonTechArticles = scrapeSource(urlNewYorkTimesNonTech, '2016', getNYTText, None)"
   ]
  },
  {
   "cell_type": "markdown",
   "metadata": {},
   "source": [
    "### Setting up the Training Articles for Classification"
   ]
  },
  {
   "cell_type": "code",
   "execution_count": 9,
   "metadata": {
    "collapsed": true
   },
   "outputs": [],
   "source": [
    "articleSummaries = {}\n",
    "\n",
    "### Article Summaries for Tech articles\n",
    "for techUrlDictionary in [newYorkTimesTechArticles, WashingtonPostTechArticles]:\n",
    "    for articleUrl in techUrlDictionary:\n",
    "        if techUrlDictionary[articleUrl][0] is not None:\n",
    "            if len(techUrlDictionary[articleUrl][0]) > 0:\n",
    "                fs = FreqSummarizer()\n",
    "                summary = fs.extractFeatures(techUrlDictionary[articleUrl], 25)\n",
    "                articleSummaries[articleUrl] = {'feature-vector': summary, 'label': 'Tech'}\n",
    "            \n",
    "### Article Summaries for Non-Tech articles\n",
    "for nonTechUrlDictionary in [newYorkTimesNonTechArticles, WashingtonPostNonTechArticles]:\n",
    "    for articleUrl in nonTechUrlDictionary:\n",
    "        if nonTechUrlDictionary[articleUrl][0] is not None:\n",
    "            if len(nonTechUrlDictionary[articleUrl][0]) > 0:\n",
    "                fs = FreqSummarizer()\n",
    "                summary = fs.extractFeatures(nonTechUrlDictionary[articleUrl], 25)\n",
    "                articleSummaries[articleUrl] = {'feature-vector': summary, 'label': 'Non-Tech'}"
   ]
  },
  {
   "cell_type": "markdown",
   "metadata": {},
   "source": [
    "### Setting up the Test Articles for Classification"
   ]
  },
  {
   "cell_type": "code",
   "execution_count": 21,
   "metadata": {
    "collapsed": true
   },
   "outputs": [],
   "source": [
    "def getNewsNow(testUrl,token):\n",
    "    response = requests.get(testUrl)\n",
    "    soup = BeautifulSoup(response.content)\n",
    "    page = str(soup)\n",
    "    title = soup.find(\"title\").text\n",
    "    mydivs = soup.findAll(\"a\", {\"class\":token})\n",
    "    text = ''.join(map(lambda a:a.text,mydivs))\n",
    "    return text,title"
   ]
  },
  {
   "cell_type": "markdown",
   "metadata": {},
   "source": [
    "#### Defining the Test case instance"
   ]
  },
  {
   "cell_type": "code",
   "execution_count": 22,
   "metadata": {
    "collapsed": false
   },
   "outputs": [
    {
     "name": "stderr",
     "output_type": "stream",
     "text": [
      "C:\\Users\\Chiku\\Anaconda3\\lib\\site-packages\\bs4\\__init__.py:166: UserWarning: No parser was explicitly specified, so I'm using the best available HTML parser for this system (\"lxml\"). This usually isn't a problem, but if you run this code on another system, or in a different virtual environment, it may use a different parser and behave differently.\n",
      "\n",
      "To get rid of this warning, change this:\n",
      "\n",
      " BeautifulSoup([your markup])\n",
      "\n",
      "to this:\n",
      "\n",
      " BeautifulSoup([your markup], \"lxml\")\n",
      "\n",
      "  markup_type=markup_type))\n"
     ]
    }
   ],
   "source": [
    "testUrl = \"http://www.newsnow.co.uk/h/Sport\"\n",
    "testArticle = getNewsNow(testUrl,\"hll\")\n",
    "\n",
    "fs = FreqSummarizer()\n",
    "testArticleSummary = fs.extractFeatures(testArticle, 25)"
   ]
  },
  {
   "cell_type": "code",
   "execution_count": 36,
   "metadata": {
    "collapsed": false
   },
   "outputs": [
    {
     "data": {
      "text/plain": [
       "['Non-Tech']"
      ]
     },
     "execution_count": 36,
     "metadata": {},
     "output_type": "execute_result"
    }
   ],
   "source": [
    "### Defining a dictionary to keep track of the distance between the test instance and each article in the training dataset\n",
    "similarities = {}\n",
    "### Finding the number of similar instances or distance between the test article and the training corpus of articles\n",
    "for articleUrl in articleSummaries:\n",
    "    oneArticleSummary = articleSummaries[articleUrl]['feature-vector']\n",
    "    similarities[articleUrl] = len(set(testArticleSummary).intersection(set(oneArticleSummary)))\n",
    "\n",
    "### Defining a dictionary to keep track of the label and how many instances in the 5NN are Tech or Non-Tech\n",
    "labels = defaultdict(int)\n",
    "knn = nlargest(10, similarities, key = similarities.get)\n",
    "for oneNeighbor in knn:\n",
    "    labels[articleSummaries[oneNeighbor]['label']] += 1\n",
    "\n",
    "nlargest(1, labels, key = labels.get)"
   ]
  },
  {
   "cell_type": "code",
   "execution_count": 25,
   "metadata": {
    "collapsed": false
   },
   "outputs": [
    {
     "data": {
      "text/plain": [
       "['man',\n",
       " 'tyson',\n",
       " 'rugby',\n",
       " 'star',\n",
       " 'west',\n",
       " 'mcgregor',\n",
       " 'new',\n",
       " 'says',\n",
       " 'golden',\n",
       " 'chelsea',\n",
       " 'united',\n",
       " 'super',\n",
       " 'hurricanes',\n",
       " 'striker',\n",
       " 'bizarre',\n",
       " 'liverpool',\n",
       " 'slow',\n",
       " 'tottenham',\n",
       " 'season',\n",
       " 'prince',\n",
       " 'klopp',\n",
       " 'kohli',\n",
       " '2016',\n",
       " 'city',\n",
       " 'captain']"
      ]
     },
     "execution_count": 25,
     "metadata": {},
     "output_type": "execute_result"
    }
   ],
   "source": [
    "testArticleSummary"
   ]
  }
 ],
 "metadata": {
  "kernelspec": {
   "display_name": "Python 3",
   "language": "python",
   "name": "python3"
  },
  "language_info": {
   "codemirror_mode": {
    "name": "ipython",
    "version": 3
   },
   "file_extension": ".py",
   "mimetype": "text/x-python",
   "name": "python",
   "nbconvert_exporter": "python",
   "pygments_lexer": "ipython3",
   "version": "3.5.1"
  }
 },
 "nbformat": 4,
 "nbformat_minor": 0
}
